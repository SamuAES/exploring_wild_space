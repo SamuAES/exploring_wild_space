{
 "cells": [
  {
   "cell_type": "markdown",
   "metadata": {},
   "source": [
    "## Import load_video and read_video functions"
   ]
  },
  {
   "cell_type": "code",
   "execution_count": 1,
   "metadata": {},
   "outputs": [],
   "source": [
    "from frames import *\n",
    "# Relative filepaths\n",
    "video_filepath = \"../data/original_videos/HE21355_090721_21NB21_exploration_IB.mp4\"\n",
    "model_path = \"../yolo/custom_yolo11n_v2.pt\""
   ]
  },
  {
   "cell_type": "markdown",
   "metadata": {},
   "source": [
    "### Load video"
   ]
  },
  {
   "cell_type": "code",
   "execution_count": 2,
   "metadata": {},
   "outputs": [
    {
     "name": "stdout",
     "output_type": "stream",
     "text": [
      "frame count: 18035.0\n",
      "frame width: 1280.0\n",
      "frame height: 720.0\n",
      "fps: 30.0\n"
     ]
    }
   ],
   "source": [
    "vcap = load_video(video_filepath)"
   ]
  },
  {
   "cell_type": "markdown",
   "metadata": {},
   "source": [
    "### Read video\n",
    "read_video function returns a generator that yields dictionarys containing information of each boundingbox in one frame. I try to see how to add id numbers for the boxes. At the moment the dictionary keys are only running numbers starting from zero."
   ]
  },
  {
   "cell_type": "code",
   "execution_count": 3,
   "metadata": {},
   "outputs": [],
   "source": [
    "results = read_video(video_capture=vcap, model_path=model_path)"
   ]
  },
  {
   "cell_type": "markdown",
   "metadata": {},
   "source": [
    "### Example of the dictionary"
   ]
  },
  {
   "cell_type": "code",
   "execution_count": 7,
   "metadata": {},
   "outputs": [
    {
     "name": "stdout",
     "output_type": "stream",
     "text": [
      "\n",
      "0: 736x1280 1 bird, 8 sticks, 1 wall, 346.8ms\n",
      "{0: {'class': 'stick', 'confidence': 0.9238584637641907, 'x1': 1090, 'y1': 2, 'x2': 1150, 'y2': 544}, 1: {'class': 'stick', 'confidence': 0.9132609963417053, 'x1': 1018, 'y1': 0, 'x2': 1080, 'y2': 627}, 2: {'class': 'stick', 'confidence': 0.9098457098007202, 'x1': 380, 'y1': 18, 'x2': 434, 'y2': 524}, 3: {'class': 'wall', 'confidence': 0.8904714584350586, 'x1': 814, 'y1': 0, 'x2': 851, 'y2': 716}, 4: {'class': 'stick', 'confidence': 0.8903260231018066, 'x1': 155, 'y1': 38, 'x2': 232, 'y2': 618}, 5: {'class': 'stick', 'confidence': 0.8894444704055786, 'x1': 444, 'y1': 1, 'x2': 496, 'y2': 623}, 6: {'class': 'bird', 'confidence': 0.8888188004493713, 'x1': 179, 'y1': 176, 'x2': 269, 'y2': 273}, 7: {'class': 'stick', 'confidence': 0.8842616081237793, 'x1': 755, 'y1': 1, 'x2': 788, 'y2': 575}, 8: {'class': 'stick', 'confidence': 0.8735045790672302, 'x1': 629, 'y1': 4, 'x2': 664, 'y2': 530}, 9: {'class': 'stick', 'confidence': 0.856378436088562, 'x1': 871, 'y1': 3, 'x2': 901, 'y2': 535}}\n"
     ]
    }
   ],
   "source": [
    "# Get next frame\n",
    "print(next(results))"
   ]
  },
  {
   "cell_type": "code",
   "execution_count": 5,
   "metadata": {},
   "outputs": [
    {
     "name": "stdout",
     "output_type": "stream",
     "text": [
      "Speed: 5.0ms preprocess, 163.8ms inference, 2.0ms postprocess per image at shape (1, 3, 736, 1280)\n",
      "\n",
      "0: 736x1280 1 bird, 8 sticks, 1 wall, 1 fence, 128.1ms\n",
      "{0: {'class': 'wall', 'confidence': 0.9582468867301941, 'x1': 802, 'y1': 0, 'x2': 930, 'y2': 719}, 1: {'class': 'bird', 'confidence': 0.9224638938903809, 'x1': 1041, 'y1': 234, 'x2': 1224, 'y2': 415}, 2: {'class': 'fence', 'confidence': 0.9214680194854736, 'x1': 1053, 'y1': 233, 'x2': 1223, 'y2': 421}, 3: {'class': 'stick', 'confidence': 0.8856028318405151, 'x1': 410, 'y1': 0, 'x2': 466, 'y2': 655}, 4: {'class': 'stick', 'confidence': 0.8813581466674805, 'x1': 101, 'y1': 11, 'x2': 172, 'y2': 660}, 5: {'class': 'stick', 'confidence': 0.8724364042282104, 'x1': 344, 'y1': 49, 'x2': 390, 'y2': 570}, 6: {'class': 'stick', 'confidence': 0.8671748638153076, 'x1': 596, 'y1': 30, 'x2': 631, 'y2': 569}, 7: {'class': 'stick', 'confidence': 0.8281698822975159, 'x1': 726, 'y1': 7, 'x2': 755, 'y2': 592}, 8: {'class': 'stick', 'confidence': 0.7980195879936218, 'x1': 1062, 'y1': 0, 'x2': 1090, 'y2': 558}, 9: {'class': 'stick', 'confidence': 0.7409788370132446, 'x1': 1006, 'y1': 0, 'x2': 1034, 'y2': 642}, 10: {'class': 'stick', 'confidence': 0.26240095496177673, 'x1': 1008, 'y1': 64, 'x2': 1034, 'y2': 543}}\n",
      "Speed: 5.1ms preprocess, 128.1ms inference, 2.1ms postprocess per image at shape (1, 3, 736, 1280)\n",
      "\n",
      "0: 736x1280 1 bird, 8 sticks, 1 wall, 1 fence, 123.4ms\n",
      "{0: {'class': 'wall', 'confidence': 0.957676112651825, 'x1': 802, 'y1': 0, 'x2': 930, 'y2': 719}, 1: {'class': 'fence', 'confidence': 0.9250025153160095, 'x1': 1069, 'y1': 232, 'x2': 1221, 'y2': 407}, 2: {'class': 'bird', 'confidence': 0.9045957922935486, 'x1': 1069, 'y1': 233, 'x2': 1222, 'y2': 406}, 3: {'class': 'stick', 'confidence': 0.8852776885032654, 'x1': 410, 'y1': 0, 'x2': 466, 'y2': 656}, 4: {'class': 'stick', 'confidence': 0.8789466619491577, 'x1': 101, 'y1': 12, 'x2': 172, 'y2': 661}, 5: {'class': 'stick', 'confidence': 0.8722093105316162, 'x1': 344, 'y1': 49, 'x2': 390, 'y2': 570}, 6: {'class': 'stick', 'confidence': 0.8676737546920776, 'x1': 596, 'y1': 30, 'x2': 631, 'y2': 569}, 7: {'class': 'stick', 'confidence': 0.8290426135063171, 'x1': 726, 'y1': 7, 'x2': 755, 'y2': 592}, 8: {'class': 'stick', 'confidence': 0.805548369884491, 'x1': 1065, 'y1': 3, 'x2': 1091, 'y2': 557}, 9: {'class': 'stick', 'confidence': 0.6862502098083496, 'x1': 1006, 'y1': 0, 'x2': 1034, 'y2': 642}, 10: {'class': 'stick', 'confidence': 0.2852320075035095, 'x1': 1008, 'y1': 64, 'x2': 1034, 'y2': 543}}\n",
      "Speed: 2.0ms preprocess, 123.4ms inference, 0.0ms postprocess per image at shape (1, 3, 736, 1280)\n",
      "\n",
      "0: 736x1280 1 bird, 8 sticks, 1 wall, 1 fence, 123.7ms\n",
      "{0: {'class': 'wall', 'confidence': 0.9603963494300842, 'x1': 802, 'y1': 0, 'x2': 930, 'y2': 719}, 1: {'class': 'fence', 'confidence': 0.918121874332428, 'x1': 1085, 'y1': 223, 'x2': 1219, 'y2': 401}, 2: {'class': 'stick', 'confidence': 0.8853722214698792, 'x1': 410, 'y1': 0, 'x2': 466, 'y2': 656}, 3: {'class': 'stick', 'confidence': 0.8783644437789917, 'x1': 101, 'y1': 11, 'x2': 172, 'y2': 662}, 4: {'class': 'stick', 'confidence': 0.8710336685180664, 'x1': 344, 'y1': 49, 'x2': 390, 'y2': 570}, 5: {'class': 'stick', 'confidence': 0.8683595061302185, 'x1': 596, 'y1': 30, 'x2': 631, 'y2': 568}, 6: {'class': 'stick', 'confidence': 0.8258744478225708, 'x1': 726, 'y1': 7, 'x2': 755, 'y2': 592}, 7: {'class': 'stick', 'confidence': 0.8115136027336121, 'x1': 1065, 'y1': 11, 'x2': 1092, 'y2': 556}, 8: {'class': 'bird', 'confidence': 0.8060979247093201, 'x1': 1084, 'y1': 222, 'x2': 1216, 'y2': 401}, 9: {'class': 'stick', 'confidence': 0.6299183368682861, 'x1': 1006, 'y1': 0, 'x2': 1035, 'y2': 642}, 10: {'class': 'stick', 'confidence': 0.37909576296806335, 'x1': 1008, 'y1': 64, 'x2': 1034, 'y2': 543}}\n",
      "Speed: 2.0ms preprocess, 123.7ms inference, 2.0ms postprocess per image at shape (1, 3, 736, 1280)\n",
      "\n",
      "0: 736x1280 1 bird, 8 sticks, 1 wall, 1 fence, 121.9ms\n",
      "{0: {'class': 'wall', 'confidence': 0.9611024856567383, 'x1': 801, 'y1': 0, 'x2': 929, 'y2': 720}, 1: {'class': 'fence', 'confidence': 0.9072781801223755, 'x1': 1095, 'y1': 207, 'x2': 1208, 'y2': 375}, 2: {'class': 'stick', 'confidence': 0.8848253488540649, 'x1': 410, 'y1': 0, 'x2': 466, 'y2': 656}, 3: {'class': 'stick', 'confidence': 0.8774678111076355, 'x1': 101, 'y1': 11, 'x2': 172, 'y2': 662}, 4: {'class': 'stick', 'confidence': 0.8712137341499329, 'x1': 344, 'y1': 49, 'x2': 390, 'y2': 570}, 5: {'class': 'stick', 'confidence': 0.8681427240371704, 'x1': 596, 'y1': 30, 'x2': 631, 'y2': 568}, 6: {'class': 'stick', 'confidence': 0.8276669979095459, 'x1': 726, 'y1': 7, 'x2': 755, 'y2': 592}, 7: {'class': 'stick', 'confidence': 0.7996084690093994, 'x1': 1064, 'y1': 1, 'x2': 1090, 'y2': 554}, 8: {'class': 'bird', 'confidence': 0.785193681716919, 'x1': 1097, 'y1': 207, 'x2': 1205, 'y2': 375}, 9: {'class': 'stick', 'confidence': 0.6565622091293335, 'x1': 1006, 'y1': 0, 'x2': 1035, 'y2': 643}, 10: {'class': 'stick', 'confidence': 0.37774816155433655, 'x1': 1008, 'y1': 64, 'x2': 1034, 'y2': 543}}\n",
      "Speed: 3.0ms preprocess, 121.9ms inference, 1.7ms postprocess per image at shape (1, 3, 736, 1280)\n",
      "\n",
      "0: 736x1280 1 bird, 8 sticks, 1 wall, 1 fence, 127.1ms\n",
      "{0: {'class': 'wall', 'confidence': 0.96073317527771, 'x1': 802, 'y1': 0, 'x2': 930, 'y2': 719}, 1: {'class': 'fence', 'confidence': 0.9036505818367004, 'x1': 1063, 'y1': 201, 'x2': 1205, 'y2': 344}, 2: {'class': 'stick', 'confidence': 0.8848370909690857, 'x1': 410, 'y1': 0, 'x2': 466, 'y2': 656}, 3: {'class': 'stick', 'confidence': 0.8785070180892944, 'x1': 101, 'y1': 11, 'x2': 172, 'y2': 661}, 4: {'class': 'stick', 'confidence': 0.8710255026817322, 'x1': 344, 'y1': 49, 'x2': 390, 'y2': 570}, 5: {'class': 'stick', 'confidence': 0.8677893280982971, 'x1': 596, 'y1': 30, 'x2': 631, 'y2': 568}, 6: {'class': 'bird', 'confidence': 0.8389958739280701, 'x1': 1075, 'y1': 202, 'x2': 1203, 'y2': 345}, 7: {'class': 'stick', 'confidence': 0.8272479176521301, 'x1': 726, 'y1': 7, 'x2': 755, 'y2': 592}, 8: {'class': 'stick', 'confidence': 0.7854501605033875, 'x1': 1064, 'y1': 0, 'x2': 1091, 'y2': 555}, 9: {'class': 'stick', 'confidence': 0.712322473526001, 'x1': 1006, 'y1': 0, 'x2': 1034, 'y2': 643}, 10: {'class': 'stick', 'confidence': 0.3505909740924835, 'x1': 1008, 'y1': 64, 'x2': 1034, 'y2': 543}}\n",
      "Speed: 2.0ms preprocess, 127.1ms inference, 1.5ms postprocess per image at shape (1, 3, 736, 1280)\n",
      "\n",
      "0: 736x1280 1 bird, 8 sticks, 1 wall, 1 fence, 127.1ms\n",
      "{0: {'class': 'wall', 'confidence': 0.9593619108200073, 'x1': 801, 'y1': 0, 'x2': 929, 'y2': 720}, 1: {'class': 'fence', 'confidence': 0.9287418127059937, 'x1': 1064, 'y1': 196, 'x2': 1240, 'y2': 344}, 2: {'class': 'stick', 'confidence': 0.884624183177948, 'x1': 410, 'y1': 0, 'x2': 466, 'y2': 656}, 3: {'class': 'stick', 'confidence': 0.8788061141967773, 'x1': 101, 'y1': 11, 'x2': 172, 'y2': 661}, 4: {'class': 'stick', 'confidence': 0.8701088428497314, 'x1': 344, 'y1': 51, 'x2': 390, 'y2': 571}, 5: {'class': 'stick', 'confidence': 0.86748868227005, 'x1': 596, 'y1': 30, 'x2': 631, 'y2': 568}, 6: {'class': 'bird', 'confidence': 0.8568258881568909, 'x1': 1064, 'y1': 197, 'x2': 1237, 'y2': 343}, 7: {'class': 'stick', 'confidence': 0.8279727697372437, 'x1': 726, 'y1': 7, 'x2': 755, 'y2': 592}, 8: {'class': 'stick', 'confidence': 0.7840705513954163, 'x1': 1064, 'y1': 0, 'x2': 1090, 'y2': 556}, 9: {'class': 'stick', 'confidence': 0.7087891697883606, 'x1': 1006, 'y1': 0, 'x2': 1034, 'y2': 643}, 10: {'class': 'stick', 'confidence': 0.3482212424278259, 'x1': 1008, 'y1': 64, 'x2': 1033, 'y2': 543}}\n"
     ]
    }
   ],
   "source": [
    "# Loop over all frames\n",
    "n = 0\n",
    "for result in results:\n",
    "    print(result)\n",
    "    n += 1\n",
    "    if n > 5:\n",
    "        break"
   ]
  },
  {
   "cell_type": "markdown",
   "metadata": {},
   "source": [
    "### Example usage of sections.py"
   ]
  },
  {
   "cell_type": "code",
   "execution_count": 4,
   "metadata": {},
   "outputs": [
    {
     "name": "stdout",
     "output_type": "stream",
     "text": [
      "{0: {'class': 'stick', 'confidence': 0.9238584637641907, 'x1': 1090, 'y1': 2, 'x2': 1150, 'y2': 544}, 1: {'class': 'stick', 'confidence': 0.9132609963417053, 'x1': 1018, 'y1': 0, 'x2': 1080, 'y2': 627}, 2: {'class': 'stick', 'confidence': 0.9098457098007202, 'x1': 380, 'y1': 18, 'x2': 434, 'y2': 524}, 3: {'class': 'wall', 'confidence': 0.8904714584350586, 'x1': 814, 'y1': 0, 'x2': 851, 'y2': 716}, 4: {'class': 'stick', 'confidence': 0.8903260231018066, 'x1': 155, 'y1': 38, 'x2': 232, 'y2': 618}, 5: {'class': 'stick', 'confidence': 0.8894444704055786, 'x1': 444, 'y1': 1, 'x2': 496, 'y2': 623}, 6: {'class': 'bird', 'confidence': 0.8888188004493713, 'x1': 179, 'y1': 176, 'x2': 269, 'y2': 273, 'section_y': 'top', 'section_x': 'left'}, 7: {'class': 'stick', 'confidence': 0.8842616081237793, 'x1': 755, 'y1': 1, 'x2': 788, 'y2': 575}, 8: {'class': 'stick', 'confidence': 0.8735045790672302, 'x1': 629, 'y1': 4, 'x2': 664, 'y2': 530}, 9: {'class': 'stick', 'confidence': 0.856378436088562, 'x1': 871, 'y1': 3, 'x2': 901, 'y2': 535}}\n",
      "{0: {'class': 'stick', 'confidence': 0.9238095283508301, 'x1': 1090, 'y1': 2, 'x2': 1149, 'y2': 544}, 1: {'class': 'stick', 'confidence': 0.9129103422164917, 'x1': 1017, 'y1': 0, 'x2': 1080, 'y2': 627}, 2: {'class': 'stick', 'confidence': 0.9104156494140625, 'x1': 380, 'y1': 18, 'x2': 434, 'y2': 525}, 3: {'class': 'wall', 'confidence': 0.890886127948761, 'x1': 814, 'y1': 0, 'x2': 851, 'y2': 716}, 4: {'class': 'stick', 'confidence': 0.8898380994796753, 'x1': 444, 'y1': 1, 'x2': 496, 'y2': 623}, 5: {'class': 'stick', 'confidence': 0.8897268176078796, 'x1': 155, 'y1': 37, 'x2': 232, 'y2': 617}, 6: {'class': 'bird', 'confidence': 0.8854630589485168, 'x1': 179, 'y1': 176, 'x2': 270, 'y2': 272, 'section_y': 'top', 'section_x': 'left'}, 7: {'class': 'stick', 'confidence': 0.8837133049964905, 'x1': 755, 'y1': 1, 'x2': 788, 'y2': 575}, 8: {'class': 'stick', 'confidence': 0.8744396567344666, 'x1': 629, 'y1': 4, 'x2': 664, 'y2': 530}, 9: {'class': 'stick', 'confidence': 0.8547012209892273, 'x1': 871, 'y1': 3, 'x2': 900, 'y2': 535}}\n",
      "{0: {'class': 'stick', 'confidence': 0.9238719940185547, 'x1': 1090, 'y1': 1, 'x2': 1149, 'y2': 544}, 1: {'class': 'stick', 'confidence': 0.912923276424408, 'x1': 1017, 'y1': 0, 'x2': 1080, 'y2': 627}, 2: {'class': 'stick', 'confidence': 0.9093680381774902, 'x1': 380, 'y1': 18, 'x2': 434, 'y2': 525}, 3: {'class': 'wall', 'confidence': 0.8910841345787048, 'x1': 814, 'y1': 0, 'x2': 851, 'y2': 716}, 4: {'class': 'stick', 'confidence': 0.8897069096565247, 'x1': 155, 'y1': 37, 'x2': 232, 'y2': 617}, 5: {'class': 'stick', 'confidence': 0.8895360827445984, 'x1': 444, 'y1': 1, 'x2': 496, 'y2': 623}, 6: {'class': 'bird', 'confidence': 0.885412335395813, 'x1': 180, 'y1': 175, 'x2': 271, 'y2': 272, 'section_y': 'top', 'section_x': 'left'}, 7: {'class': 'stick', 'confidence': 0.8830758929252625, 'x1': 755, 'y1': 1, 'x2': 788, 'y2': 575}, 8: {'class': 'stick', 'confidence': 0.8751240968704224, 'x1': 629, 'y1': 4, 'x2': 664, 'y2': 530}, 9: {'class': 'stick', 'confidence': 0.8544679880142212, 'x1': 871, 'y1': 3, 'x2': 900, 'y2': 535}}\n",
      "{0: {'class': 'stick', 'confidence': 0.9241852760314941, 'x1': 1090, 'y1': 1, 'x2': 1149, 'y2': 544}, 1: {'class': 'stick', 'confidence': 0.9130988121032715, 'x1': 1017, 'y1': 0, 'x2': 1080, 'y2': 627}, 2: {'class': 'stick', 'confidence': 0.9096055626869202, 'x1': 380, 'y1': 18, 'x2': 434, 'y2': 525}, 3: {'class': 'wall', 'confidence': 0.8946114778518677, 'x1': 814, 'y1': 0, 'x2': 851, 'y2': 716}, 4: {'class': 'bird', 'confidence': 0.8913907408714294, 'x1': 179, 'y1': 175, 'x2': 271, 'y2': 272, 'section_y': 'top', 'section_x': 'left'}, 5: {'class': 'stick', 'confidence': 0.8907211422920227, 'x1': 155, 'y1': 35, 'x2': 233, 'y2': 618}, 6: {'class': 'stick', 'confidence': 0.8893668055534363, 'x1': 444, 'y1': 1, 'x2': 496, 'y2': 623}, 7: {'class': 'stick', 'confidence': 0.8844438195228577, 'x1': 755, 'y1': 1, 'x2': 788, 'y2': 574}, 8: {'class': 'stick', 'confidence': 0.8749856352806091, 'x1': 629, 'y1': 4, 'x2': 664, 'y2': 530}, 9: {'class': 'stick', 'confidence': 0.8546224236488342, 'x1': 870, 'y1': 3, 'x2': 900, 'y2': 535}}\n",
      "{0: {'class': 'stick', 'confidence': 0.9239278435707092, 'x1': 1090, 'y1': 1, 'x2': 1149, 'y2': 544}, 1: {'class': 'stick', 'confidence': 0.9128285050392151, 'x1': 1017, 'y1': 0, 'x2': 1080, 'y2': 627}, 2: {'class': 'stick', 'confidence': 0.909600019454956, 'x1': 380, 'y1': 18, 'x2': 434, 'y2': 524}, 3: {'class': 'wall', 'confidence': 0.8959062099456787, 'x1': 814, 'y1': 0, 'x2': 851, 'y2': 716}, 4: {'class': 'stick', 'confidence': 0.8897230625152588, 'x1': 155, 'y1': 35, 'x2': 233, 'y2': 618}, 5: {'class': 'stick', 'confidence': 0.8893871307373047, 'x1': 444, 'y1': 1, 'x2': 496, 'y2': 623}, 6: {'class': 'stick', 'confidence': 0.8844867944717407, 'x1': 755, 'y1': 1, 'x2': 788, 'y2': 575}, 7: {'class': 'bird', 'confidence': 0.8808923959732056, 'x1': 177, 'y1': 177, 'x2': 273, 'y2': 274, 'section_y': 'top', 'section_x': 'left'}, 8: {'class': 'stick', 'confidence': 0.8746213316917419, 'x1': 629, 'y1': 4, 'x2': 664, 'y2': 530}, 9: {'class': 'stick', 'confidence': 0.8555721640586853, 'x1': 871, 'y1': 3, 'x2': 900, 'y2': 535}}\n",
      "{0: {'class': 'stick', 'confidence': 0.9237774610519409, 'x1': 1090, 'y1': 1, 'x2': 1149, 'y2': 544}, 1: {'class': 'stick', 'confidence': 0.9128977060317993, 'x1': 1017, 'y1': 0, 'x2': 1080, 'y2': 627}, 2: {'class': 'bird', 'confidence': 0.9124532341957092, 'x1': 174, 'y1': 180, 'x2': 277, 'y2': 274, 'section_y': 'top', 'section_x': 'left'}, 3: {'class': 'stick', 'confidence': 0.9093695878982544, 'x1': 380, 'y1': 18, 'x2': 434, 'y2': 524}, 4: {'class': 'wall', 'confidence': 0.897864043712616, 'x1': 813, 'y1': 0, 'x2': 851, 'y2': 716}, 5: {'class': 'stick', 'confidence': 0.8907962441444397, 'x1': 155, 'y1': 34, 'x2': 233, 'y2': 618}, 6: {'class': 'stick', 'confidence': 0.8890098333358765, 'x1': 444, 'y1': 1, 'x2': 496, 'y2': 623}, 7: {'class': 'stick', 'confidence': 0.8846677541732788, 'x1': 755, 'y1': 1, 'x2': 788, 'y2': 574}, 8: {'class': 'stick', 'confidence': 0.8750745058059692, 'x1': 629, 'y1': 4, 'x2': 664, 'y2': 530}, 9: {'class': 'stick', 'confidence': 0.8563647866249084, 'x1': 870, 'y1': 3, 'x2': 900, 'y2': 535}}\n",
      "Total Frame Counts by Section: {'top': 6, 'middle': 0, 'bottom': 0, 'left': 6, 'right': 0}\n",
      "Time by Section (in seconds): {'top': 0.2, 'middle': 0.0, 'bottom': 0.0, 'left': 0.2, 'right': 0.0}\n"
     ]
    }
   ],
   "source": [
    "from sections import assign_section_ys, assign_section_xs, count_frames_by_section, convert_frame_counts_to_time\n",
    "\n",
    "# Initialize frame counts\n",
    "total_frame_counts = {'top': 0, 'middle': 0, 'bottom': 0, 'left': 0, 'right': 0}\n",
    "\n",
    "n = 0\n",
    "# Loop over all frames\n",
    "for result in results:\n",
    "    # Assign sections\n",
    "    labeled_result = assign_section_ys(result)\n",
    "    labeled_result = assign_section_xs(labeled_result)\n",
    "    print(labeled_result)\n",
    "    # Count frames by section\n",
    "    frame_counts = count_frames_by_section(labeled_result)\n",
    "    \n",
    "    # Update total frame counts\n",
    "    for section, count in frame_counts.items():\n",
    "        total_frame_counts[section] += count\n",
    "\n",
    "    n += 1\n",
    "    if n > 5:\n",
    "        break\n",
    "\n",
    "# Convert frame counts to time\n",
    "time_by_section = convert_frame_counts_to_time(total_frame_counts)\n",
    "\n",
    "# Output the results\n",
    "print(\"Total Frame Counts by Section:\", total_frame_counts)\n",
    "print(\"Time by Section (in seconds):\", time_by_section)"
   ]
  }
 ],
 "metadata": {
  "kernelspec": {
   "display_name": ".venv",
   "language": "python",
   "name": "python3"
  },
  "language_info": {
   "codemirror_mode": {
    "name": "ipython",
    "version": 3
   },
   "file_extension": ".py",
   "mimetype": "text/x-python",
   "name": "python",
   "nbconvert_exporter": "python",
   "pygments_lexer": "ipython3",
   "version": "3.12.7"
  }
 },
 "nbformat": 4,
 "nbformat_minor": 2
}
