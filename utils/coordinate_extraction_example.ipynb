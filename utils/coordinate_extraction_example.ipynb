{
 "cells": [
  {
   "cell_type": "markdown",
   "metadata": {},
   "source": [
    "## Import load_video and read_video functions"
   ]
  },
  {
   "cell_type": "code",
   "execution_count": 5,
   "metadata": {},
   "outputs": [],
   "source": [
    "from frames import *\n",
    "from tqdm import tqdm\n",
    "# Relative filepaths\n",
    "video_filepath = \"../data/original_videos/HE21355_090721_21NB21_exploration_IB.mp4\"\n",
    "model_path = \"../yolo/custom_yolo11n_v2.pt\""
   ]
  },
  {
   "cell_type": "markdown",
   "metadata": {},
   "source": [
    "### Load video"
   ]
  },
  {
   "cell_type": "code",
   "execution_count": 2,
   "metadata": {},
   "outputs": [
    {
     "name": "stdout",
     "output_type": "stream",
     "text": [
      "video: HE21355_090721_21NB21_exploration_IB.mp4\n",
      "frame count: 18035.0\n",
      "frame width: 1280.0\n",
      "frame height: 720.0\n",
      "fps: 30.0\n"
     ]
    }
   ],
   "source": [
    "vcap = load_video(video_filepath)"
   ]
  },
  {
   "cell_type": "markdown",
   "metadata": {},
   "source": [
    "### Read video\n",
    "read_video function returns a generator that yields dictionarys containing information of each boundingbox in one frame. I try to see how to add id numbers for the boxes. At the moment the dictionary keys are only running numbers starting from zero."
   ]
  },
  {
   "cell_type": "code",
   "execution_count": 3,
   "metadata": {},
   "outputs": [],
   "source": [
    "results = read_video(video_capture=vcap, model_path=model_path)"
   ]
  },
  {
   "cell_type": "markdown",
   "metadata": {},
   "source": [
    "### Example of the dictionary"
   ]
  },
  {
   "cell_type": "code",
   "execution_count": 7,
   "metadata": {},
   "outputs": [
    {
     "name": "stdout",
     "output_type": "stream",
     "text": [
      "\n",
      "0: 736x1280 1 bird, 8 sticks, 1 wall, 346.8ms\n",
      "{0: {'class': 'stick', 'confidence': 0.9238584637641907, 'x1': 1090, 'y1': 2, 'x2': 1150, 'y2': 544}, 1: {'class': 'stick', 'confidence': 0.9132609963417053, 'x1': 1018, 'y1': 0, 'x2': 1080, 'y2': 627}, 2: {'class': 'stick', 'confidence': 0.9098457098007202, 'x1': 380, 'y1': 18, 'x2': 434, 'y2': 524}, 3: {'class': 'wall', 'confidence': 0.8904714584350586, 'x1': 814, 'y1': 0, 'x2': 851, 'y2': 716}, 4: {'class': 'stick', 'confidence': 0.8903260231018066, 'x1': 155, 'y1': 38, 'x2': 232, 'y2': 618}, 5: {'class': 'stick', 'confidence': 0.8894444704055786, 'x1': 444, 'y1': 1, 'x2': 496, 'y2': 623}, 6: {'class': 'bird', 'confidence': 0.8888188004493713, 'x1': 179, 'y1': 176, 'x2': 269, 'y2': 273}, 7: {'class': 'stick', 'confidence': 0.8842616081237793, 'x1': 755, 'y1': 1, 'x2': 788, 'y2': 575}, 8: {'class': 'stick', 'confidence': 0.8735045790672302, 'x1': 629, 'y1': 4, 'x2': 664, 'y2': 530}, 9: {'class': 'stick', 'confidence': 0.856378436088562, 'x1': 871, 'y1': 3, 'x2': 901, 'y2': 535}}\n"
     ]
    }
   ],
   "source": [
    "# Get next frame\n",
    "print(next(results))"
   ]
  },
  {
   "cell_type": "code",
   "execution_count": 7,
   "metadata": {},
   "outputs": [
    {
     "name": "stderr",
     "output_type": "stream",
     "text": [
      "  0%|          | 0/100 [00:00<?, ?it/s]\n"
     ]
    }
   ],
   "source": [
    "# Loop over all frames\n",
    "n = 0\n",
    "nof_frames = 100\n",
    "for result in tqdm(results, total=nof_frames):\n",
    "    #print(result)\n",
    "    n += 1\n",
    "    if n > nof_frames:\n",
    "        break"
   ]
  },
  {
   "cell_type": "markdown",
   "metadata": {},
   "source": [
    "### Example usage of sections.py"
   ]
  },
  {
   "cell_type": "code",
   "execution_count": 4,
   "metadata": {},
   "outputs": [
    {
     "name": "stdout",
     "output_type": "stream",
     "text": [
      "{0: {'class': 'stick', 'confidence': 0.9238584637641907, 'x1': 1090, 'y1': 2, 'x2': 1150, 'y2': 544}, 1: {'class': 'stick', 'confidence': 0.9132609963417053, 'x1': 1018, 'y1': 0, 'x2': 1080, 'y2': 627}, 2: {'class': 'stick', 'confidence': 0.9098457098007202, 'x1': 380, 'y1': 18, 'x2': 434, 'y2': 524}, 3: {'class': 'wall', 'confidence': 0.8904714584350586, 'x1': 814, 'y1': 0, 'x2': 851, 'y2': 716}, 4: {'class': 'stick', 'confidence': 0.8903260231018066, 'x1': 155, 'y1': 38, 'x2': 232, 'y2': 618}, 5: {'class': 'stick', 'confidence': 0.8894444704055786, 'x1': 444, 'y1': 1, 'x2': 496, 'y2': 623}, 6: {'class': 'bird', 'confidence': 0.8888188004493713, 'x1': 179, 'y1': 176, 'x2': 269, 'y2': 273, 'section_y': 'top', 'section_x': 'left'}, 7: {'class': 'stick', 'confidence': 0.8842616081237793, 'x1': 755, 'y1': 1, 'x2': 788, 'y2': 575}, 8: {'class': 'stick', 'confidence': 0.8735045790672302, 'x1': 629, 'y1': 4, 'x2': 664, 'y2': 530}, 9: {'class': 'stick', 'confidence': 0.856378436088562, 'x1': 871, 'y1': 3, 'x2': 901, 'y2': 535}}\n",
      "{0: {'class': 'stick', 'confidence': 0.9238095283508301, 'x1': 1090, 'y1': 2, 'x2': 1149, 'y2': 544}, 1: {'class': 'stick', 'confidence': 0.9129103422164917, 'x1': 1017, 'y1': 0, 'x2': 1080, 'y2': 627}, 2: {'class': 'stick', 'confidence': 0.9104156494140625, 'x1': 380, 'y1': 18, 'x2': 434, 'y2': 525}, 3: {'class': 'wall', 'confidence': 0.890886127948761, 'x1': 814, 'y1': 0, 'x2': 851, 'y2': 716}, 4: {'class': 'stick', 'confidence': 0.8898380994796753, 'x1': 444, 'y1': 1, 'x2': 496, 'y2': 623}, 5: {'class': 'stick', 'confidence': 0.8897268176078796, 'x1': 155, 'y1': 37, 'x2': 232, 'y2': 617}, 6: {'class': 'bird', 'confidence': 0.8854630589485168, 'x1': 179, 'y1': 176, 'x2': 270, 'y2': 272, 'section_y': 'top', 'section_x': 'left'}, 7: {'class': 'stick', 'confidence': 0.8837133049964905, 'x1': 755, 'y1': 1, 'x2': 788, 'y2': 575}, 8: {'class': 'stick', 'confidence': 0.8744396567344666, 'x1': 629, 'y1': 4, 'x2': 664, 'y2': 530}, 9: {'class': 'stick', 'confidence': 0.8547012209892273, 'x1': 871, 'y1': 3, 'x2': 900, 'y2': 535}}\n",
      "{0: {'class': 'stick', 'confidence': 0.9238719940185547, 'x1': 1090, 'y1': 1, 'x2': 1149, 'y2': 544}, 1: {'class': 'stick', 'confidence': 0.912923276424408, 'x1': 1017, 'y1': 0, 'x2': 1080, 'y2': 627}, 2: {'class': 'stick', 'confidence': 0.9093680381774902, 'x1': 380, 'y1': 18, 'x2': 434, 'y2': 525}, 3: {'class': 'wall', 'confidence': 0.8910841345787048, 'x1': 814, 'y1': 0, 'x2': 851, 'y2': 716}, 4: {'class': 'stick', 'confidence': 0.8897069096565247, 'x1': 155, 'y1': 37, 'x2': 232, 'y2': 617}, 5: {'class': 'stick', 'confidence': 0.8895360827445984, 'x1': 444, 'y1': 1, 'x2': 496, 'y2': 623}, 6: {'class': 'bird', 'confidence': 0.885412335395813, 'x1': 180, 'y1': 175, 'x2': 271, 'y2': 272, 'section_y': 'top', 'section_x': 'left'}, 7: {'class': 'stick', 'confidence': 0.8830758929252625, 'x1': 755, 'y1': 1, 'x2': 788, 'y2': 575}, 8: {'class': 'stick', 'confidence': 0.8751240968704224, 'x1': 629, 'y1': 4, 'x2': 664, 'y2': 530}, 9: {'class': 'stick', 'confidence': 0.8544679880142212, 'x1': 871, 'y1': 3, 'x2': 900, 'y2': 535}}\n",
      "{0: {'class': 'stick', 'confidence': 0.9241852760314941, 'x1': 1090, 'y1': 1, 'x2': 1149, 'y2': 544}, 1: {'class': 'stick', 'confidence': 0.9130988121032715, 'x1': 1017, 'y1': 0, 'x2': 1080, 'y2': 627}, 2: {'class': 'stick', 'confidence': 0.9096055626869202, 'x1': 380, 'y1': 18, 'x2': 434, 'y2': 525}, 3: {'class': 'wall', 'confidence': 0.8946114778518677, 'x1': 814, 'y1': 0, 'x2': 851, 'y2': 716}, 4: {'class': 'bird', 'confidence': 0.8913907408714294, 'x1': 179, 'y1': 175, 'x2': 271, 'y2': 272, 'section_y': 'top', 'section_x': 'left'}, 5: {'class': 'stick', 'confidence': 0.8907211422920227, 'x1': 155, 'y1': 35, 'x2': 233, 'y2': 618}, 6: {'class': 'stick', 'confidence': 0.8893668055534363, 'x1': 444, 'y1': 1, 'x2': 496, 'y2': 623}, 7: {'class': 'stick', 'confidence': 0.8844438195228577, 'x1': 755, 'y1': 1, 'x2': 788, 'y2': 574}, 8: {'class': 'stick', 'confidence': 0.8749856352806091, 'x1': 629, 'y1': 4, 'x2': 664, 'y2': 530}, 9: {'class': 'stick', 'confidence': 0.8546224236488342, 'x1': 870, 'y1': 3, 'x2': 900, 'y2': 535}}\n",
      "{0: {'class': 'stick', 'confidence': 0.9239278435707092, 'x1': 1090, 'y1': 1, 'x2': 1149, 'y2': 544}, 1: {'class': 'stick', 'confidence': 0.9128285050392151, 'x1': 1017, 'y1': 0, 'x2': 1080, 'y2': 627}, 2: {'class': 'stick', 'confidence': 0.909600019454956, 'x1': 380, 'y1': 18, 'x2': 434, 'y2': 524}, 3: {'class': 'wall', 'confidence': 0.8959062099456787, 'x1': 814, 'y1': 0, 'x2': 851, 'y2': 716}, 4: {'class': 'stick', 'confidence': 0.8897230625152588, 'x1': 155, 'y1': 35, 'x2': 233, 'y2': 618}, 5: {'class': 'stick', 'confidence': 0.8893871307373047, 'x1': 444, 'y1': 1, 'x2': 496, 'y2': 623}, 6: {'class': 'stick', 'confidence': 0.8844867944717407, 'x1': 755, 'y1': 1, 'x2': 788, 'y2': 575}, 7: {'class': 'bird', 'confidence': 0.8808923959732056, 'x1': 177, 'y1': 177, 'x2': 273, 'y2': 274, 'section_y': 'top', 'section_x': 'left'}, 8: {'class': 'stick', 'confidence': 0.8746213316917419, 'x1': 629, 'y1': 4, 'x2': 664, 'y2': 530}, 9: {'class': 'stick', 'confidence': 0.8555721640586853, 'x1': 871, 'y1': 3, 'x2': 900, 'y2': 535}}\n",
      "{0: {'class': 'stick', 'confidence': 0.9237774610519409, 'x1': 1090, 'y1': 1, 'x2': 1149, 'y2': 544}, 1: {'class': 'stick', 'confidence': 0.9128977060317993, 'x1': 1017, 'y1': 0, 'x2': 1080, 'y2': 627}, 2: {'class': 'bird', 'confidence': 0.9124532341957092, 'x1': 174, 'y1': 180, 'x2': 277, 'y2': 274, 'section_y': 'top', 'section_x': 'left'}, 3: {'class': 'stick', 'confidence': 0.9093695878982544, 'x1': 380, 'y1': 18, 'x2': 434, 'y2': 524}, 4: {'class': 'wall', 'confidence': 0.897864043712616, 'x1': 813, 'y1': 0, 'x2': 851, 'y2': 716}, 5: {'class': 'stick', 'confidence': 0.8907962441444397, 'x1': 155, 'y1': 34, 'x2': 233, 'y2': 618}, 6: {'class': 'stick', 'confidence': 0.8890098333358765, 'x1': 444, 'y1': 1, 'x2': 496, 'y2': 623}, 7: {'class': 'stick', 'confidence': 0.8846677541732788, 'x1': 755, 'y1': 1, 'x2': 788, 'y2': 574}, 8: {'class': 'stick', 'confidence': 0.8750745058059692, 'x1': 629, 'y1': 4, 'x2': 664, 'y2': 530}, 9: {'class': 'stick', 'confidence': 0.8563647866249084, 'x1': 870, 'y1': 3, 'x2': 900, 'y2': 535}}\n",
      "Total Frame Counts by Section: {'top': 6, 'middle': 0, 'bottom': 0, 'left': 6, 'right': 0}\n",
      "Time by Section (in seconds): {'top': 0.2, 'middle': 0.0, 'bottom': 0.0, 'left': 0.2, 'right': 0.0}\n"
     ]
    }
   ],
   "source": [
    "from sections import assign_section_ys, assign_section_xs, count_frames_by_section, convert_frame_counts_to_time\n",
    "\n",
    "# Initialize frame counts\n",
    "total_frame_counts = {'top': 0, 'middle': 0, 'bottom': 0, 'left': 0, 'right': 0}\n",
    "\n",
    "n = 0\n",
    "# Loop over all frames\n",
    "for result in results:\n",
    "    # Assign sections\n",
    "    labeled_result = assign_section_ys(result)\n",
    "    labeled_result = assign_section_xs(labeled_result)\n",
    "    print(labeled_result)\n",
    "    # Count frames by section\n",
    "    frame_counts = count_frames_by_section(labeled_result)\n",
    "    \n",
    "    # Update total frame counts\n",
    "    for section, count in frame_counts.items():\n",
    "        total_frame_counts[section] += count\n",
    "\n",
    "    n += 1\n",
    "    if n > 5:\n",
    "        break\n",
    "\n",
    "# Convert frame counts to time\n",
    "time_by_section = convert_frame_counts_to_time(total_frame_counts)\n",
    "\n",
    "# Output the results\n",
    "print(\"Total Frame Counts by Section:\", total_frame_counts)\n",
    "print(\"Time by Section (in seconds):\", time_by_section)"
   ]
  }
 ],
 "metadata": {
  "kernelspec": {
   "display_name": ".venv",
   "language": "python",
   "name": "python3"
  },
  "language_info": {
   "codemirror_mode": {
    "name": "ipython",
    "version": 3
   },
   "file_extension": ".py",
   "mimetype": "text/x-python",
   "name": "python",
   "nbconvert_exporter": "python",
   "pygments_lexer": "ipython3",
   "version": "3.12.7"
  }
 },
 "nbformat": 4,
 "nbformat_minor": 2
}
