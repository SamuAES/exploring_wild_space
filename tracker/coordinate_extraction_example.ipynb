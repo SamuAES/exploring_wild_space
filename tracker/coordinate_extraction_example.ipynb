{
 "cells": [
  {
   "cell_type": "markdown",
   "metadata": {},
   "source": [
    "## Import load_video and read_video functions"
   ]
  },
  {
   "cell_type": "code",
   "execution_count": 2,
   "metadata": {},
   "outputs": [],
   "source": [
    "from frames import *\n",
    "# Relative filepaths\n",
    "video_filepath = \"videos/videos/CAGE_220520_HA70339_exploration_IB.mp4\"\n",
    "model_path = \"custom_yolo11n.pt\""
   ]
  },
  {
   "cell_type": "markdown",
   "metadata": {},
   "source": [
    "### Load video"
   ]
  },
  {
   "cell_type": "code",
   "execution_count": 3,
   "metadata": {},
   "outputs": [
    {
     "name": "stdout",
     "output_type": "stream",
     "text": [
      "frame count: 18015.0\n",
      "frame width: 1280.0\n",
      "frame height: 720.0\n",
      "fps: 30.0\n"
     ]
    }
   ],
   "source": [
    "vcap = load_video(video_filepath)"
   ]
  },
  {
   "cell_type": "markdown",
   "metadata": {},
   "source": [
    "### Read video\n",
    "read_video function returns a generator that yields dictionarys containing information of each boundingbox in one frame. I try to see how to add id numbers for the boxes. At the moment the dictionary keys are only running numbers starting from zero."
   ]
  },
  {
   "cell_type": "code",
   "execution_count": 4,
   "metadata": {},
   "outputs": [],
   "source": [
    "results = read_video(video_capture=vcap, model_path=model_path)"
   ]
  },
  {
   "cell_type": "markdown",
   "metadata": {},
   "source": [
    "### Example of the dictionary"
   ]
  },
  {
   "cell_type": "code",
   "execution_count": 11,
   "metadata": {},
   "outputs": [
    {
     "name": "stdout",
     "output_type": "stream",
     "text": [
      "Speed: 5.2ms preprocess, 268.5ms inference, 0.7ms postprocess per image at shape (1, 3, 736, 1280)\n",
      "\n",
      "0: 736x1280 1 bird, 10 sticks, 321.8ms\n",
      "{0: {'class': 'bird', 'confidence': 0.926597535610199, 'x1': 988, 'y1': 231, 'x2': 1094, 'y2': 316}, 1: {'class': 'stick', 'confidence': 0.8688355684280396, 'x1': 81, 'y1': 10, 'x2': 151, 'y2': 653}, 2: {'class': 'stick', 'confidence': 0.8563888669013977, 'x1': 329, 'y1': 55, 'x2': 372, 'y2': 568}, 3: {'class': 'stick', 'confidence': 0.8373900651931763, 'x1': 397, 'y1': 14, 'x2': 450, 'y2': 662}, 4: {'class': 'stick', 'confidence': 0.7632104754447937, 'x1': 710, 'y1': 11, 'x2': 740, 'y2': 591}, 5: {'class': 'stick', 'confidence': 0.763107180595398, 'x1': 987, 'y1': 14, 'x2': 1016, 'y2': 644}, 6: {'class': 'stick', 'confidence': 0.7302395105361938, 'x1': 578, 'y1': 36, 'x2': 612, 'y2': 582}, 7: {'class': 'stick', 'confidence': 0.5559359788894653, 'x1': 1048, 'y1': 7, 'x2': 1078, 'y2': 566}, 8: {'class': 'stick', 'confidence': 0.2922932207584381, 'x1': 1258, 'y1': 2, 'x2': 1280, 'y2': 655}, 9: {'class': 'stick', 'confidence': 0.2877010703086853, 'x1': 1048, 'y1': 14, 'x2': 1071, 'y2': 299}, 10: {'class': 'stick', 'confidence': 0.2757992446422577, 'x1': 1255, 'y1': 95, 'x2': 1280, 'y2': 720}}\n"
     ]
    }
   ],
   "source": [
    "# Get next frame\n",
    "print(next(results))"
   ]
  },
  {
   "cell_type": "code",
   "execution_count": 12,
   "metadata": {},
   "outputs": [
    {
     "name": "stdout",
     "output_type": "stream",
     "text": [
      "Speed: 4.8ms preprocess, 321.8ms inference, 0.9ms postprocess per image at shape (1, 3, 736, 1280)\n",
      "\n",
      "0: 736x1280 1 bird, 11 sticks, 348.6ms\n",
      "{0: {'class': 'stick', 'confidence': 0.8769167065620422, 'x1': 81, 'y1': 10, 'x2': 151, 'y2': 653}, 1: {'class': 'stick', 'confidence': 0.8611774444580078, 'x1': 329, 'y1': 55, 'x2': 372, 'y2': 568}, 2: {'class': 'stick', 'confidence': 0.8376907706260681, 'x1': 397, 'y1': 14, 'x2': 450, 'y2': 663}, 3: {'class': 'bird', 'confidence': 0.8218144774436951, 'x1': 987, 'y1': 231, 'x2': 1103, 'y2': 318}, 4: {'class': 'stick', 'confidence': 0.766535222530365, 'x1': 710, 'y1': 11, 'x2': 740, 'y2': 591}, 5: {'class': 'stick', 'confidence': 0.7552287578582764, 'x1': 986, 'y1': 11, 'x2': 1016, 'y2': 646}, 6: {'class': 'stick', 'confidence': 0.7324872016906738, 'x1': 578, 'y1': 36, 'x2': 612, 'y2': 583}, 7: {'class': 'stick', 'confidence': 0.46655580401420593, 'x1': 1048, 'y1': 7, 'x2': 1077, 'y2': 600}, 8: {'class': 'stick', 'confidence': 0.4054770767688751, 'x1': 988, 'y1': 172, 'x2': 1012, 'y2': 632}, 9: {'class': 'stick', 'confidence': 0.3584153354167938, 'x1': 1048, 'y1': 193, 'x2': 1067, 'y2': 564}, 10: {'class': 'stick', 'confidence': 0.31708648800849915, 'x1': 1258, 'y1': 0, 'x2': 1280, 'y2': 655}, 11: {'class': 'stick', 'confidence': 0.30123478174209595, 'x1': 1255, 'y1': 94, 'x2': 1280, 'y2': 720}}\n",
      "Speed: 26.7ms preprocess, 348.6ms inference, 1.2ms postprocess per image at shape (1, 3, 736, 1280)\n",
      "\n",
      "0: 736x1280 1 bird, 11 sticks, 183.1ms\n",
      "{0: {'class': 'bird', 'confidence': 0.8772230744361877, 'x1': 986, 'y1': 235, 'x2': 1107, 'y2': 322}, 1: {'class': 'stick', 'confidence': 0.87488853931427, 'x1': 81, 'y1': 10, 'x2': 151, 'y2': 653}, 2: {'class': 'stick', 'confidence': 0.8623932600021362, 'x1': 329, 'y1': 55, 'x2': 372, 'y2': 569}, 3: {'class': 'stick', 'confidence': 0.836121141910553, 'x1': 397, 'y1': 14, 'x2': 450, 'y2': 663}, 4: {'class': 'stick', 'confidence': 0.76945960521698, 'x1': 710, 'y1': 11, 'x2': 740, 'y2': 591}, 5: {'class': 'stick', 'confidence': 0.7545461654663086, 'x1': 985, 'y1': 12, 'x2': 1016, 'y2': 646}, 6: {'class': 'stick', 'confidence': 0.7332094311714172, 'x1': 578, 'y1': 36, 'x2': 612, 'y2': 583}, 7: {'class': 'stick', 'confidence': 0.3856970965862274, 'x1': 1049, 'y1': 7, 'x2': 1077, 'y2': 589}, 8: {'class': 'stick', 'confidence': 0.3780728578567505, 'x1': 1048, 'y1': 17, 'x2': 1072, 'y2': 276}, 9: {'class': 'stick', 'confidence': 0.3507368862628937, 'x1': 988, 'y1': 173, 'x2': 1012, 'y2': 632}, 10: {'class': 'stick', 'confidence': 0.33419370651245117, 'x1': 1258, 'y1': 0, 'x2': 1280, 'y2': 657}, 11: {'class': 'stick', 'confidence': 0.2915288805961609, 'x1': 1255, 'y1': 91, 'x2': 1280, 'y2': 720}}\n",
      "Speed: 4.0ms preprocess, 183.1ms inference, 0.9ms postprocess per image at shape (1, 3, 736, 1280)\n",
      "\n",
      "0: 736x1280 1 bird, 12 sticks, 241.6ms\n",
      "{0: {'class': 'bird', 'confidence': 0.9139515161514282, 'x1': 977, 'y1': 235, 'x2': 1111, 'y2': 317}, 1: {'class': 'stick', 'confidence': 0.8762601017951965, 'x1': 80, 'y1': 10, 'x2': 151, 'y2': 652}, 2: {'class': 'stick', 'confidence': 0.8639593124389648, 'x1': 329, 'y1': 55, 'x2': 372, 'y2': 568}, 3: {'class': 'stick', 'confidence': 0.836918830871582, 'x1': 397, 'y1': 14, 'x2': 450, 'y2': 663}, 4: {'class': 'stick', 'confidence': 0.7701320648193359, 'x1': 710, 'y1': 11, 'x2': 740, 'y2': 591}, 5: {'class': 'stick', 'confidence': 0.7595475316047668, 'x1': 985, 'y1': 12, 'x2': 1017, 'y2': 646}, 6: {'class': 'stick', 'confidence': 0.7341213822364807, 'x1': 578, 'y1': 36, 'x2': 612, 'y2': 583}, 7: {'class': 'stick', 'confidence': 0.5312801599502563, 'x1': 1049, 'y1': 270, 'x2': 1067, 'y2': 562}, 8: {'class': 'stick', 'confidence': 0.4159979522228241, 'x1': 1048, 'y1': 16, 'x2': 1072, 'y2': 262}, 9: {'class': 'stick', 'confidence': 0.4134015142917633, 'x1': 988, 'y1': 184, 'x2': 1011, 'y2': 631}, 10: {'class': 'stick', 'confidence': 0.33352944254875183, 'x1': 1258, 'y1': 0, 'x2': 1280, 'y2': 659}, 11: {'class': 'stick', 'confidence': 0.3067531883716583, 'x1': 1255, 'y1': 90, 'x2': 1280, 'y2': 720}, 12: {'class': 'stick', 'confidence': 0.30104848742485046, 'x1': 1049, 'y1': 7, 'x2': 1077, 'y2': 612}}\n",
      "Speed: 4.6ms preprocess, 241.6ms inference, 0.9ms postprocess per image at shape (1, 3, 736, 1280)\n",
      "\n",
      "0: 736x1280 1 bird, 12 sticks, 193.0ms\n",
      "{0: {'class': 'bird', 'confidence': 0.9095984697341919, 'x1': 972, 'y1': 235, 'x2': 1112, 'y2': 319}, 1: {'class': 'stick', 'confidence': 0.8778758645057678, 'x1': 80, 'y1': 10, 'x2': 151, 'y2': 652}, 2: {'class': 'stick', 'confidence': 0.8654881715774536, 'x1': 329, 'y1': 55, 'x2': 372, 'y2': 569}, 3: {'class': 'stick', 'confidence': 0.8371008038520813, 'x1': 397, 'y1': 14, 'x2': 450, 'y2': 663}, 4: {'class': 'stick', 'confidence': 0.7733328938484192, 'x1': 710, 'y1': 11, 'x2': 740, 'y2': 592}, 5: {'class': 'stick', 'confidence': 0.7671762108802795, 'x1': 985, 'y1': 12, 'x2': 1017, 'y2': 646}, 6: {'class': 'stick', 'confidence': 0.733734130859375, 'x1': 578, 'y1': 36, 'x2': 612, 'y2': 584}, 7: {'class': 'stick', 'confidence': 0.42122548818588257, 'x1': 1049, 'y1': 245, 'x2': 1067, 'y2': 563}, 8: {'class': 'stick', 'confidence': 0.42021694779396057, 'x1': 1049, 'y1': 7, 'x2': 1076, 'y2': 608}, 9: {'class': 'stick', 'confidence': 0.402202308177948, 'x1': 988, 'y1': 182, 'x2': 1011, 'y2': 631}, 10: {'class': 'stick', 'confidence': 0.3565554618835449, 'x1': 1048, 'y1': 16, 'x2': 1071, 'y2': 283}, 11: {'class': 'stick', 'confidence': 0.3045298457145691, 'x1': 1258, 'y1': 0, 'x2': 1280, 'y2': 658}, 12: {'class': 'stick', 'confidence': 0.29724588990211487, 'x1': 1255, 'y1': 91, 'x2': 1280, 'y2': 720}}\n",
      "Speed: 3.9ms preprocess, 193.0ms inference, 0.8ms postprocess per image at shape (1, 3, 736, 1280)\n",
      "\n",
      "0: 736x1280 1 bird, 12 sticks, 201.7ms\n",
      "{0: {'class': 'bird', 'confidence': 0.9158666729927063, 'x1': 970, 'y1': 235, 'x2': 1114, 'y2': 319}, 1: {'class': 'stick', 'confidence': 0.8747321963310242, 'x1': 81, 'y1': 10, 'x2': 151, 'y2': 653}, 2: {'class': 'stick', 'confidence': 0.863737940788269, 'x1': 329, 'y1': 54, 'x2': 372, 'y2': 568}, 3: {'class': 'stick', 'confidence': 0.836489200592041, 'x1': 397, 'y1': 14, 'x2': 450, 'y2': 662}, 4: {'class': 'stick', 'confidence': 0.7738837599754333, 'x1': 710, 'y1': 11, 'x2': 740, 'y2': 592}, 5: {'class': 'stick', 'confidence': 0.7623498439788818, 'x1': 985, 'y1': 13, 'x2': 1017, 'y2': 646}, 6: {'class': 'stick', 'confidence': 0.7339519262313843, 'x1': 578, 'y1': 36, 'x2': 612, 'y2': 584}, 7: {'class': 'stick', 'confidence': 0.46419665217399597, 'x1': 1049, 'y1': 7, 'x2': 1077, 'y2': 597}, 8: {'class': 'stick', 'confidence': 0.3588486909866333, 'x1': 988, 'y1': 178, 'x2': 1011, 'y2': 632}, 9: {'class': 'stick', 'confidence': 0.3104710578918457, 'x1': 1048, 'y1': 16, 'x2': 1071, 'y2': 292}, 10: {'class': 'stick', 'confidence': 0.28681647777557373, 'x1': 1259, 'y1': 0, 'x2': 1280, 'y2': 657}, 11: {'class': 'stick', 'confidence': 0.2835289537906647, 'x1': 1255, 'y1': 93, 'x2': 1280, 'y2': 720}, 12: {'class': 'stick', 'confidence': 0.2703607976436615, 'x1': 1049, 'y1': 206, 'x2': 1067, 'y2': 563}}\n",
      "Speed: 5.8ms preprocess, 201.7ms inference, 0.9ms postprocess per image at shape (1, 3, 736, 1280)\n",
      "\n",
      "0: 736x1280 1 bird, 12 sticks, 194.3ms\n",
      "{0: {'class': 'bird', 'confidence': 0.9451112747192383, 'x1': 965, 'y1': 235, 'x2': 1114, 'y2': 320}, 1: {'class': 'stick', 'confidence': 0.8738189935684204, 'x1': 81, 'y1': 11, 'x2': 151, 'y2': 652}, 2: {'class': 'stick', 'confidence': 0.8609757423400879, 'x1': 329, 'y1': 53, 'x2': 372, 'y2': 569}, 3: {'class': 'stick', 'confidence': 0.8354313373565674, 'x1': 397, 'y1': 14, 'x2': 450, 'y2': 662}, 4: {'class': 'stick', 'confidence': 0.7723100185394287, 'x1': 710, 'y1': 11, 'x2': 740, 'y2': 591}, 5: {'class': 'stick', 'confidence': 0.7616244554519653, 'x1': 986, 'y1': 13, 'x2': 1017, 'y2': 646}, 6: {'class': 'stick', 'confidence': 0.7363445162773132, 'x1': 578, 'y1': 36, 'x2': 612, 'y2': 584}, 7: {'class': 'stick', 'confidence': 0.40168970823287964, 'x1': 1049, 'y1': 7, 'x2': 1077, 'y2': 597}, 8: {'class': 'stick', 'confidence': 0.35894715785980225, 'x1': 1048, 'y1': 17, 'x2': 1071, 'y2': 257}, 9: {'class': 'stick', 'confidence': 0.35704416036605835, 'x1': 988, 'y1': 180, 'x2': 1011, 'y2': 632}, 10: {'class': 'stick', 'confidence': 0.2772448658943176, 'x1': 1049, 'y1': 210, 'x2': 1067, 'y2': 562}, 11: {'class': 'stick', 'confidence': 0.26865100860595703, 'x1': 1259, 'y1': 0, 'x2': 1280, 'y2': 658}, 12: {'class': 'stick', 'confidence': 0.2646772563457489, 'x1': 1255, 'y1': 93, 'x2': 1280, 'y2': 720}}\n"
     ]
    }
   ],
   "source": [
    "# Loop over all frames\n",
    "n = 0\n",
    "for result in results:\n",
    "    print(result)\n",
    "    n += 1\n",
    "    if n > 5:\n",
    "        break"
   ]
  }
 ],
 "metadata": {
  "kernelspec": {
   "display_name": ".venv",
   "language": "python",
   "name": "python3"
  },
  "language_info": {
   "codemirror_mode": {
    "name": "ipython",
    "version": 3
   },
   "file_extension": ".py",
   "mimetype": "text/x-python",
   "name": "python",
   "nbconvert_exporter": "python",
   "pygments_lexer": "ipython3",
   "version": "3.12.7"
  }
 },
 "nbformat": 4,
 "nbformat_minor": 2
}
