{
 "cells": [
  {
   "cell_type": "markdown",
   "metadata": {},
   "source": [
    "## Import load_video and read_video functions"
   ]
  },
  {
   "cell_type": "code",
   "execution_count": null,
   "metadata": {},
   "outputs": [],
   "source": [
    "from frames import *\n",
    "# Relative filepaths\n",
    "video_filepath = \"videos/videos/CAGE_220520_HA70339_exploration_IB.mp4\"\n",
    "model_path = \"custom_yolo11n_v2.pt\""
   ]
  },
  {
   "cell_type": "markdown",
   "metadata": {},
   "source": [
    "### Load video"
   ]
  },
  {
   "cell_type": "code",
   "execution_count": 2,
   "metadata": {},
   "outputs": [
    {
     "ename": "ValueError",
     "evalue": "VideoCapture did not succeed",
     "output_type": "error",
     "traceback": [
      "\u001b[0;31m---------------------------------------------------------------------------\u001b[0m",
      "\u001b[0;31mValueError\u001b[0m                                Traceback (most recent call last)",
      "Cell \u001b[0;32mIn[2], line 1\u001b[0m\n\u001b[0;32m----> 1\u001b[0m vcap \u001b[38;5;241m=\u001b[39m \u001b[43mload_video\u001b[49m\u001b[43m(\u001b[49m\u001b[43mvideo_filepath\u001b[49m\u001b[43m)\u001b[49m\n",
      "File \u001b[0;32m~/DS/project/exploring_wild_space/tracker/frames.py:22\u001b[0m, in \u001b[0;36mload_video\u001b[0;34m(video_filepath)\u001b[0m\n\u001b[1;32m     20\u001b[0m     \u001b[38;5;28mprint\u001b[39m(\u001b[38;5;124m\"\u001b[39m\u001b[38;5;124mfps:\u001b[39m\u001b[38;5;124m\"\u001b[39m, vcap\u001b[38;5;241m.\u001b[39mget(cv2\u001b[38;5;241m.\u001b[39mCAP_PROP_FPS))\n\u001b[1;32m     21\u001b[0m \u001b[38;5;28;01melse\u001b[39;00m:\n\u001b[0;32m---> 22\u001b[0m     \u001b[38;5;28;01mraise\u001b[39;00m \u001b[38;5;167;01mValueError\u001b[39;00m(\u001b[38;5;124m\"\u001b[39m\u001b[38;5;124mVideoCapture did not succeed\u001b[39m\u001b[38;5;124m\"\u001b[39m)\n\u001b[1;32m     23\u001b[0m cv2\u001b[38;5;241m.\u001b[39mdestroyAllWindows()\n\u001b[1;32m     24\u001b[0m \u001b[38;5;28;01mreturn\u001b[39;00m vcap\n",
      "\u001b[0;31mValueError\u001b[0m: VideoCapture did not succeed"
     ]
    }
   ],
   "source": [
    "vcap = load_video(video_filepath)"
   ]
  },
  {
   "cell_type": "markdown",
   "metadata": {},
   "source": [
    "### Read video\n",
    "read_video function returns a generator that yields dictionarys containing information of each boundingbox in one frame. I try to see how to add id numbers for the boxes. At the moment the dictionary keys are only running numbers starting from zero."
   ]
  },
  {
   "cell_type": "code",
   "execution_count": 3,
   "metadata": {},
   "outputs": [],
   "source": [
    "results = read_video(video_capture=vcap, model_path=model_path)"
   ]
  },
  {
   "cell_type": "markdown",
   "metadata": {},
   "source": [
    "### Example of the dictionary"
   ]
  },
  {
   "cell_type": "code",
   "execution_count": 4,
   "metadata": {},
   "outputs": [
    {
     "name": "stdout",
     "output_type": "stream",
     "text": [
      "\n",
      "0: 736x1280 1 bird, 8 sticks, 1 wall, 1 fence, 163.8ms\n",
      "{0: {'class': 'wall', 'confidence': 0.9591825604438782, 'x1': 801, 'y1': 0, 'x2': 930, 'y2': 720}, 1: {'class': 'fence', 'confidence': 0.8940964937210083, 'x1': 1068, 'y1': 237, 'x2': 1228, 'y2': 425}, 2: {'class': 'stick', 'confidence': 0.8859832286834717, 'x1': 410, 'y1': 0, 'x2': 466, 'y2': 656}, 3: {'class': 'stick', 'confidence': 0.8819417953491211, 'x1': 101, 'y1': 11, 'x2': 172, 'y2': 660}, 4: {'class': 'stick', 'confidence': 0.8723573088645935, 'x1': 344, 'y1': 49, 'x2': 390, 'y2': 570}, 5: {'class': 'stick', 'confidence': 0.8672595620155334, 'x1': 596, 'y1': 30, 'x2': 631, 'y2': 569}, 6: {'class': 'stick', 'confidence': 0.8260651230812073, 'x1': 726, 'y1': 7, 'x2': 755, 'y2': 592}, 7: {'class': 'stick', 'confidence': 0.8204466700553894, 'x1': 1063, 'y1': 1, 'x2': 1090, 'y2': 557}, 8: {'class': 'stick', 'confidence': 0.6569235920906067, 'x1': 1006, 'y1': 0, 'x2': 1033, 'y2': 643}, 9: {'class': 'bird', 'confidence': 0.6178366541862488, 'x1': 1081, 'y1': 236, 'x2': 1226, 'y2': 428}, 10: {'class': 'stick', 'confidence': 0.3628123700618744, 'x1': 1008, 'y1': 64, 'x2': 1033, 'y2': 543}}\n"
     ]
    }
   ],
   "source": [
    "# Get next frame\n",
    "print(next(results))"
   ]
  },
  {
   "cell_type": "code",
   "execution_count": 5,
   "metadata": {},
   "outputs": [
    {
     "name": "stdout",
     "output_type": "stream",
     "text": [
      "Speed: 5.0ms preprocess, 163.8ms inference, 2.0ms postprocess per image at shape (1, 3, 736, 1280)\n",
      "\n",
      "0: 736x1280 1 bird, 8 sticks, 1 wall, 1 fence, 128.1ms\n",
      "{0: {'class': 'wall', 'confidence': 0.9582468867301941, 'x1': 802, 'y1': 0, 'x2': 930, 'y2': 719}, 1: {'class': 'bird', 'confidence': 0.9224638938903809, 'x1': 1041, 'y1': 234, 'x2': 1224, 'y2': 415}, 2: {'class': 'fence', 'confidence': 0.9214680194854736, 'x1': 1053, 'y1': 233, 'x2': 1223, 'y2': 421}, 3: {'class': 'stick', 'confidence': 0.8856028318405151, 'x1': 410, 'y1': 0, 'x2': 466, 'y2': 655}, 4: {'class': 'stick', 'confidence': 0.8813581466674805, 'x1': 101, 'y1': 11, 'x2': 172, 'y2': 660}, 5: {'class': 'stick', 'confidence': 0.8724364042282104, 'x1': 344, 'y1': 49, 'x2': 390, 'y2': 570}, 6: {'class': 'stick', 'confidence': 0.8671748638153076, 'x1': 596, 'y1': 30, 'x2': 631, 'y2': 569}, 7: {'class': 'stick', 'confidence': 0.8281698822975159, 'x1': 726, 'y1': 7, 'x2': 755, 'y2': 592}, 8: {'class': 'stick', 'confidence': 0.7980195879936218, 'x1': 1062, 'y1': 0, 'x2': 1090, 'y2': 558}, 9: {'class': 'stick', 'confidence': 0.7409788370132446, 'x1': 1006, 'y1': 0, 'x2': 1034, 'y2': 642}, 10: {'class': 'stick', 'confidence': 0.26240095496177673, 'x1': 1008, 'y1': 64, 'x2': 1034, 'y2': 543}}\n",
      "Speed: 5.1ms preprocess, 128.1ms inference, 2.1ms postprocess per image at shape (1, 3, 736, 1280)\n",
      "\n",
      "0: 736x1280 1 bird, 8 sticks, 1 wall, 1 fence, 123.4ms\n",
      "{0: {'class': 'wall', 'confidence': 0.957676112651825, 'x1': 802, 'y1': 0, 'x2': 930, 'y2': 719}, 1: {'class': 'fence', 'confidence': 0.9250025153160095, 'x1': 1069, 'y1': 232, 'x2': 1221, 'y2': 407}, 2: {'class': 'bird', 'confidence': 0.9045957922935486, 'x1': 1069, 'y1': 233, 'x2': 1222, 'y2': 406}, 3: {'class': 'stick', 'confidence': 0.8852776885032654, 'x1': 410, 'y1': 0, 'x2': 466, 'y2': 656}, 4: {'class': 'stick', 'confidence': 0.8789466619491577, 'x1': 101, 'y1': 12, 'x2': 172, 'y2': 661}, 5: {'class': 'stick', 'confidence': 0.8722093105316162, 'x1': 344, 'y1': 49, 'x2': 390, 'y2': 570}, 6: {'class': 'stick', 'confidence': 0.8676737546920776, 'x1': 596, 'y1': 30, 'x2': 631, 'y2': 569}, 7: {'class': 'stick', 'confidence': 0.8290426135063171, 'x1': 726, 'y1': 7, 'x2': 755, 'y2': 592}, 8: {'class': 'stick', 'confidence': 0.805548369884491, 'x1': 1065, 'y1': 3, 'x2': 1091, 'y2': 557}, 9: {'class': 'stick', 'confidence': 0.6862502098083496, 'x1': 1006, 'y1': 0, 'x2': 1034, 'y2': 642}, 10: {'class': 'stick', 'confidence': 0.2852320075035095, 'x1': 1008, 'y1': 64, 'x2': 1034, 'y2': 543}}\n",
      "Speed: 2.0ms preprocess, 123.4ms inference, 0.0ms postprocess per image at shape (1, 3, 736, 1280)\n",
      "\n",
      "0: 736x1280 1 bird, 8 sticks, 1 wall, 1 fence, 123.7ms\n",
      "{0: {'class': 'wall', 'confidence': 0.9603963494300842, 'x1': 802, 'y1': 0, 'x2': 930, 'y2': 719}, 1: {'class': 'fence', 'confidence': 0.918121874332428, 'x1': 1085, 'y1': 223, 'x2': 1219, 'y2': 401}, 2: {'class': 'stick', 'confidence': 0.8853722214698792, 'x1': 410, 'y1': 0, 'x2': 466, 'y2': 656}, 3: {'class': 'stick', 'confidence': 0.8783644437789917, 'x1': 101, 'y1': 11, 'x2': 172, 'y2': 662}, 4: {'class': 'stick', 'confidence': 0.8710336685180664, 'x1': 344, 'y1': 49, 'x2': 390, 'y2': 570}, 5: {'class': 'stick', 'confidence': 0.8683595061302185, 'x1': 596, 'y1': 30, 'x2': 631, 'y2': 568}, 6: {'class': 'stick', 'confidence': 0.8258744478225708, 'x1': 726, 'y1': 7, 'x2': 755, 'y2': 592}, 7: {'class': 'stick', 'confidence': 0.8115136027336121, 'x1': 1065, 'y1': 11, 'x2': 1092, 'y2': 556}, 8: {'class': 'bird', 'confidence': 0.8060979247093201, 'x1': 1084, 'y1': 222, 'x2': 1216, 'y2': 401}, 9: {'class': 'stick', 'confidence': 0.6299183368682861, 'x1': 1006, 'y1': 0, 'x2': 1035, 'y2': 642}, 10: {'class': 'stick', 'confidence': 0.37909576296806335, 'x1': 1008, 'y1': 64, 'x2': 1034, 'y2': 543}}\n",
      "Speed: 2.0ms preprocess, 123.7ms inference, 2.0ms postprocess per image at shape (1, 3, 736, 1280)\n",
      "\n",
      "0: 736x1280 1 bird, 8 sticks, 1 wall, 1 fence, 121.9ms\n",
      "{0: {'class': 'wall', 'confidence': 0.9611024856567383, 'x1': 801, 'y1': 0, 'x2': 929, 'y2': 720}, 1: {'class': 'fence', 'confidence': 0.9072781801223755, 'x1': 1095, 'y1': 207, 'x2': 1208, 'y2': 375}, 2: {'class': 'stick', 'confidence': 0.8848253488540649, 'x1': 410, 'y1': 0, 'x2': 466, 'y2': 656}, 3: {'class': 'stick', 'confidence': 0.8774678111076355, 'x1': 101, 'y1': 11, 'x2': 172, 'y2': 662}, 4: {'class': 'stick', 'confidence': 0.8712137341499329, 'x1': 344, 'y1': 49, 'x2': 390, 'y2': 570}, 5: {'class': 'stick', 'confidence': 0.8681427240371704, 'x1': 596, 'y1': 30, 'x2': 631, 'y2': 568}, 6: {'class': 'stick', 'confidence': 0.8276669979095459, 'x1': 726, 'y1': 7, 'x2': 755, 'y2': 592}, 7: {'class': 'stick', 'confidence': 0.7996084690093994, 'x1': 1064, 'y1': 1, 'x2': 1090, 'y2': 554}, 8: {'class': 'bird', 'confidence': 0.785193681716919, 'x1': 1097, 'y1': 207, 'x2': 1205, 'y2': 375}, 9: {'class': 'stick', 'confidence': 0.6565622091293335, 'x1': 1006, 'y1': 0, 'x2': 1035, 'y2': 643}, 10: {'class': 'stick', 'confidence': 0.37774816155433655, 'x1': 1008, 'y1': 64, 'x2': 1034, 'y2': 543}}\n",
      "Speed: 3.0ms preprocess, 121.9ms inference, 1.7ms postprocess per image at shape (1, 3, 736, 1280)\n",
      "\n",
      "0: 736x1280 1 bird, 8 sticks, 1 wall, 1 fence, 127.1ms\n",
      "{0: {'class': 'wall', 'confidence': 0.96073317527771, 'x1': 802, 'y1': 0, 'x2': 930, 'y2': 719}, 1: {'class': 'fence', 'confidence': 0.9036505818367004, 'x1': 1063, 'y1': 201, 'x2': 1205, 'y2': 344}, 2: {'class': 'stick', 'confidence': 0.8848370909690857, 'x1': 410, 'y1': 0, 'x2': 466, 'y2': 656}, 3: {'class': 'stick', 'confidence': 0.8785070180892944, 'x1': 101, 'y1': 11, 'x2': 172, 'y2': 661}, 4: {'class': 'stick', 'confidence': 0.8710255026817322, 'x1': 344, 'y1': 49, 'x2': 390, 'y2': 570}, 5: {'class': 'stick', 'confidence': 0.8677893280982971, 'x1': 596, 'y1': 30, 'x2': 631, 'y2': 568}, 6: {'class': 'bird', 'confidence': 0.8389958739280701, 'x1': 1075, 'y1': 202, 'x2': 1203, 'y2': 345}, 7: {'class': 'stick', 'confidence': 0.8272479176521301, 'x1': 726, 'y1': 7, 'x2': 755, 'y2': 592}, 8: {'class': 'stick', 'confidence': 0.7854501605033875, 'x1': 1064, 'y1': 0, 'x2': 1091, 'y2': 555}, 9: {'class': 'stick', 'confidence': 0.712322473526001, 'x1': 1006, 'y1': 0, 'x2': 1034, 'y2': 643}, 10: {'class': 'stick', 'confidence': 0.3505909740924835, 'x1': 1008, 'y1': 64, 'x2': 1034, 'y2': 543}}\n",
      "Speed: 2.0ms preprocess, 127.1ms inference, 1.5ms postprocess per image at shape (1, 3, 736, 1280)\n",
      "\n",
      "0: 736x1280 1 bird, 8 sticks, 1 wall, 1 fence, 127.1ms\n",
      "{0: {'class': 'wall', 'confidence': 0.9593619108200073, 'x1': 801, 'y1': 0, 'x2': 929, 'y2': 720}, 1: {'class': 'fence', 'confidence': 0.9287418127059937, 'x1': 1064, 'y1': 196, 'x2': 1240, 'y2': 344}, 2: {'class': 'stick', 'confidence': 0.884624183177948, 'x1': 410, 'y1': 0, 'x2': 466, 'y2': 656}, 3: {'class': 'stick', 'confidence': 0.8788061141967773, 'x1': 101, 'y1': 11, 'x2': 172, 'y2': 661}, 4: {'class': 'stick', 'confidence': 0.8701088428497314, 'x1': 344, 'y1': 51, 'x2': 390, 'y2': 571}, 5: {'class': 'stick', 'confidence': 0.86748868227005, 'x1': 596, 'y1': 30, 'x2': 631, 'y2': 568}, 6: {'class': 'bird', 'confidence': 0.8568258881568909, 'x1': 1064, 'y1': 197, 'x2': 1237, 'y2': 343}, 7: {'class': 'stick', 'confidence': 0.8279727697372437, 'x1': 726, 'y1': 7, 'x2': 755, 'y2': 592}, 8: {'class': 'stick', 'confidence': 0.7840705513954163, 'x1': 1064, 'y1': 0, 'x2': 1090, 'y2': 556}, 9: {'class': 'stick', 'confidence': 0.7087891697883606, 'x1': 1006, 'y1': 0, 'x2': 1034, 'y2': 643}, 10: {'class': 'stick', 'confidence': 0.3482212424278259, 'x1': 1008, 'y1': 64, 'x2': 1033, 'y2': 543}}\n"
     ]
    }
   ],
   "source": [
    "# Loop over all frames\n",
    "n = 0\n",
    "for result in results:\n",
    "    print(result)\n",
    "    n += 1\n",
    "    if n > 5:\n",
    "        break"
   ]
  },
  {
   "cell_type": "markdown",
   "metadata": {},
   "source": [
    "### Example usage of sections.py"
   ]
  },
  {
   "cell_type": "code",
   "execution_count": 7,
   "metadata": {},
   "outputs": [
    {
     "name": "stdout",
     "output_type": "stream",
     "text": [
      "Speed: 4.6ms preprocess, 127.1ms inference, 0.0ms postprocess per image at shape (1, 3, 736, 1280)\n",
      "\n"
     ]
    },
    {
     "name": "stdout",
     "output_type": "stream",
     "text": [
      "0: 736x1280 1 bird, 8 sticks, 1 wall, 1 fence, 138.0ms\n",
      "{0: {'class': 'wall', 'confidence': 0.9591019749641418, 'x1': 802, 'y1': 0, 'x2': 930, 'y2': 719}, 1: {'class': 'fence', 'confidence': 0.9341777563095093, 'x1': 1079, 'y1': 203, 'x2': 1237, 'y2': 368}, 2: {'class': 'stick', 'confidence': 0.8846118450164795, 'x1': 410, 'y1': 0, 'x2': 466, 'y2': 656}, 3: {'class': 'stick', 'confidence': 0.8775836229324341, 'x1': 101, 'y1': 11, 'x2': 172, 'y2': 661}, 4: {'class': 'bird', 'confidence': 0.8766999840736389, 'x1': 1080, 'y1': 204, 'x2': 1237, 'y2': 370, 'section_y': 'middle', 'section_x': 'right'}, 5: {'class': 'stick', 'confidence': 0.8706541061401367, 'x1': 344, 'y1': 48, 'x2': 390, 'y2': 570}, 6: {'class': 'stick', 'confidence': 0.8676438331604004, 'x1': 596, 'y1': 30, 'x2': 631, 'y2': 568}, 7: {'class': 'stick', 'confidence': 0.8289686441421509, 'x1': 726, 'y1': 7, 'x2': 755, 'y2': 592}, 8: {'class': 'stick', 'confidence': 0.8050586581230164, 'x1': 1064, 'y1': 0, 'x2': 1091, 'y2': 555}, 9: {'class': 'stick', 'confidence': 0.6622738242149353, 'x1': 1006, 'y1': 1, 'x2': 1035, 'y2': 642}, 10: {'class': 'stick', 'confidence': 0.40791842341423035, 'x1': 1008, 'y1': 64, 'x2': 1033, 'y2': 543}}\n",
      "Speed: 7.9ms preprocess, 138.0ms inference, 0.0ms postprocess per image at shape (1, 3, 736, 1280)\n",
      "\n",
      "0: 736x1280 1 bird, 8 sticks, 1 wall, 1 fence, 221.8ms\n",
      "{0: {'class': 'wall', 'confidence': 0.9591005444526672, 'x1': 802, 'y1': 0, 'x2': 930, 'y2': 719}, 1: {'class': 'fence', 'confidence': 0.9476823210716248, 'x1': 1072, 'y1': 203, 'x2': 1238, 'y2': 368}, 2: {'class': 'bird', 'confidence': 0.9260084629058838, 'x1': 1075, 'y1': 204, 'x2': 1240, 'y2': 369, 'section_y': 'middle', 'section_x': 'right'}, 3: {'class': 'stick', 'confidence': 0.8846347332000732, 'x1': 410, 'y1': 0, 'x2': 466, 'y2': 656}, 4: {'class': 'stick', 'confidence': 0.8773660063743591, 'x1': 100, 'y1': 12, 'x2': 171, 'y2': 661}, 5: {'class': 'stick', 'confidence': 0.870552659034729, 'x1': 344, 'y1': 51, 'x2': 390, 'y2': 571}, 6: {'class': 'stick', 'confidence': 0.8677788376808167, 'x1': 596, 'y1': 30, 'x2': 631, 'y2': 568}, 7: {'class': 'stick', 'confidence': 0.8285409808158875, 'x1': 726, 'y1': 7, 'x2': 755, 'y2': 592}, 8: {'class': 'stick', 'confidence': 0.792202353477478, 'x1': 1064, 'y1': 0, 'x2': 1091, 'y2': 554}, 9: {'class': 'stick', 'confidence': 0.6570013761520386, 'x1': 1006, 'y1': 0, 'x2': 1035, 'y2': 642}, 10: {'class': 'stick', 'confidence': 0.32405340671539307, 'x1': 1008, 'y1': 64, 'x2': 1033, 'y2': 543}}\n",
      "Speed: 1.1ms preprocess, 221.8ms inference, 0.0ms postprocess per image at shape (1, 3, 736, 1280)\n",
      "\n",
      "0: 736x1280 1 bird, 8 sticks, 1 wall, 1 fence, 185.6ms\n",
      "{0: {'class': 'wall', 'confidence': 0.9599431157112122, 'x1': 802, 'y1': 0, 'x2': 930, 'y2': 719}, 1: {'class': 'fence', 'confidence': 0.9311053156852722, 'x1': 1073, 'y1': 201, 'x2': 1237, 'y2': 358}, 2: {'class': 'stick', 'confidence': 0.8851920962333679, 'x1': 410, 'y1': 0, 'x2': 466, 'y2': 655}, 3: {'class': 'stick', 'confidence': 0.8772932887077332, 'x1': 101, 'y1': 11, 'x2': 172, 'y2': 661}, 4: {'class': 'stick', 'confidence': 0.8712976574897766, 'x1': 344, 'y1': 49, 'x2': 390, 'y2': 570}, 5: {'class': 'stick', 'confidence': 0.867831826210022, 'x1': 597, 'y1': 30, 'x2': 631, 'y2': 569}, 6: {'class': 'bird', 'confidence': 0.8583233952522278, 'x1': 1076, 'y1': 201, 'x2': 1236, 'y2': 359, 'section_y': 'middle', 'section_x': 'right'}, 7: {'class': 'stick', 'confidence': 0.8285881876945496, 'x1': 726, 'y1': 7, 'x2': 755, 'y2': 592}, 8: {'class': 'stick', 'confidence': 0.8137798309326172, 'x1': 1064, 'y1': 0, 'x2': 1091, 'y2': 556}, 9: {'class': 'stick', 'confidence': 0.6904098391532898, 'x1': 1006, 'y1': 0, 'x2': 1035, 'y2': 642}, 10: {'class': 'stick', 'confidence': 0.3571070432662964, 'x1': 1008, 'y1': 64, 'x2': 1034, 'y2': 543}}\n",
      "Speed: 3.8ms preprocess, 185.6ms inference, 2.3ms postprocess per image at shape (1, 3, 736, 1280)\n",
      "\n",
      "0: 736x1280 1 bird, 8 sticks, 1 wall, 1 fence, 168.2ms\n",
      "{0: {'class': 'wall', 'confidence': 0.9608461856842041, 'x1': 801, 'y1': 0, 'x2': 929, 'y2': 719}, 1: {'class': 'fence', 'confidence': 0.9340609312057495, 'x1': 1065, 'y1': 201, 'x2': 1244, 'y2': 324}, 2: {'class': 'stick', 'confidence': 0.8850829005241394, 'x1': 410, 'y1': 0, 'x2': 466, 'y2': 655}, 3: {'class': 'bird', 'confidence': 0.8781937956809998, 'x1': 1063, 'y1': 203, 'x2': 1244, 'y2': 327, 'section_y': 'middle', 'section_x': 'right'}, 4: {'class': 'stick', 'confidence': 0.8764435648918152, 'x1': 100, 'y1': 12, 'x2': 171, 'y2': 661}, 5: {'class': 'stick', 'confidence': 0.8719701170921326, 'x1': 344, 'y1': 49, 'x2': 390, 'y2': 570}, 6: {'class': 'stick', 'confidence': 0.8677215576171875, 'x1': 597, 'y1': 30, 'x2': 631, 'y2': 569}, 7: {'class': 'stick', 'confidence': 0.8293415307998657, 'x1': 726, 'y1': 7, 'x2': 755, 'y2': 592}, 8: {'class': 'stick', 'confidence': 0.797365665435791, 'x1': 1064, 'y1': 0, 'x2': 1090, 'y2': 556}, 9: {'class': 'stick', 'confidence': 0.6723740696907043, 'x1': 1006, 'y1': 0, 'x2': 1035, 'y2': 642}, 10: {'class': 'stick', 'confidence': 0.3956749439239502, 'x1': 1008, 'y1': 64, 'x2': 1033, 'y2': 543}}\n",
      "Speed: 3.0ms preprocess, 168.2ms inference, 1.5ms postprocess per image at shape (1, 3, 736, 1280)\n",
      "\n",
      "0: 736x1280 2 birds, 8 sticks, 1 wall, 2 fences, 166.2ms\n",
      "{0: {'class': 'wall', 'confidence': 0.9630425572395325, 'x1': 801, 'y1': 0, 'x2': 928, 'y2': 719}, 1: {'class': 'fence', 'confidence': 0.8943676948547363, 'x1': 1068, 'y1': 205, 'x2': 1245, 'y2': 325}, 2: {'class': 'stick', 'confidence': 0.8850276470184326, 'x1': 410, 'y1': 0, 'x2': 466, 'y2': 655}, 3: {'class': 'fence', 'confidence': 0.8820682168006897, 'x1': 1065, 'y1': 146, 'x2': 1245, 'y2': 331}, 4: {'class': 'stick', 'confidence': 0.876044511795044, 'x1': 100, 'y1': 12, 'x2': 171, 'y2': 661}, 5: {'class': 'stick', 'confidence': 0.871510922908783, 'x1': 344, 'y1': 49, 'x2': 390, 'y2': 570}, 6: {'class': 'stick', 'confidence': 0.867546021938324, 'x1': 597, 'y1': 30, 'x2': 631, 'y2': 568}, 7: {'class': 'stick', 'confidence': 0.8291732668876648, 'x1': 726, 'y1': 7, 'x2': 755, 'y2': 592}, 8: {'class': 'stick', 'confidence': 0.7844827771186829, 'x1': 1064, 'y1': 0, 'x2': 1090, 'y2': 557}, 9: {'class': 'bird', 'confidence': 0.7083624601364136, 'x1': 1060, 'y1': 162, 'x2': 1244, 'y2': 330, 'section_y': 'middle', 'section_x': 'right'}, 10: {'class': 'stick', 'confidence': 0.6828050017356873, 'x1': 1006, 'y1': 0, 'x2': 1035, 'y2': 642}, 11: {'class': 'bird', 'confidence': 0.6425826549530029, 'x1': 1092, 'y1': 209, 'x2': 1245, 'y2': 332, 'section_y': 'middle', 'section_x': 'right'}, 12: {'class': 'stick', 'confidence': 0.38740265369415283, 'x1': 1008, 'y1': 64, 'x2': 1033, 'y2': 543}}\n",
      "Speed: 3.9ms preprocess, 166.2ms inference, 1.1ms postprocess per image at shape (1, 3, 736, 1280)\n",
      "\n",
      "0: 736x1280 1 bird, 8 sticks, 1 wall, 1 fence, 150.5ms\n",
      "{0: {'class': 'wall', 'confidence': 0.9629135131835938, 'x1': 801, 'y1': 0, 'x2': 929, 'y2': 719}, 1: {'class': 'fence', 'confidence': 0.9438907504081726, 'x1': 1051, 'y1': 202, 'x2': 1232, 'y2': 334}, 2: {'class': 'stick', 'confidence': 0.8854347467422485, 'x1': 410, 'y1': 0, 'x2': 466, 'y2': 655}, 3: {'class': 'stick', 'confidence': 0.8770645260810852, 'x1': 100, 'y1': 11, 'x2': 171, 'y2': 661}, 4: {'class': 'stick', 'confidence': 0.8722001910209656, 'x1': 344, 'y1': 49, 'x2': 390, 'y2': 570}, 5: {'class': 'stick', 'confidence': 0.8670939207077026, 'x1': 597, 'y1': 30, 'x2': 631, 'y2': 569}, 6: {'class': 'stick', 'confidence': 0.8265722393989563, 'x1': 726, 'y1': 7, 'x2': 755, 'y2': 592}, 7: {'class': 'bird', 'confidence': 0.8117391467094421, 'x1': 1050, 'y1': 203, 'x2': 1229, 'y2': 333, 'section_y': 'middle', 'section_x': 'right'}, 8: {'class': 'stick', 'confidence': 0.7706869840621948, 'x1': 1064, 'y1': 0, 'x2': 1091, 'y2': 556}, 9: {'class': 'stick', 'confidence': 0.7125893831253052, 'x1': 1006, 'y1': 0, 'x2': 1034, 'y2': 643}, 10: {'class': 'stick', 'confidence': 0.34409430623054504, 'x1': 1008, 'y1': 48, 'x2': 1033, 'y2': 527}}\n",
      "Total Frame Counts by Section: {'top': 0, 'middle': 6, 'bottom': 0, 'left': 0, 'right': 6}\n",
      "Time by Section (in seconds): {'top': 0.0, 'middle': 0.2, 'bottom': 0.0, 'left': 0.0, 'right': 0.2}\n"
     ]
    }
   ],
   "source": [
    "from sections import assign_section_ys, assign_section_xs, count_frames_by_section, convert_frame_counts_to_time\n",
    "\n",
    "# Initialize frame counts\n",
    "total_frame_counts = {'top': 0, 'middle': 0, 'bottom': 0, 'left': 0, 'right': 0}\n",
    "\n",
    "n = 0\n",
    "# Loop over all frames\n",
    "for result in results:\n",
    "    # Assign sections\n",
    "    labeled_result = assign_section_ys(result)\n",
    "    labeled_result = assign_section_xs(labeled_result)\n",
    "    print(labeled_result)\n",
    "    # Count frames by section\n",
    "    frame_counts = count_frames_by_section(labeled_result)\n",
    "    \n",
    "    # Update total frame counts\n",
    "    for section, count in frame_counts.items():\n",
    "        total_frame_counts[section] += count\n",
    "\n",
    "    n += 1\n",
    "    if n > 5:\n",
    "        break\n",
    "\n",
    "# Convert frame counts to time\n",
    "time_by_section = convert_frame_counts_to_time(total_frame_counts)\n",
    "\n",
    "# Output the results\n",
    "print(\"Total Frame Counts by Section:\", total_frame_counts)\n",
    "print(\"Time by Section (in seconds):\", time_by_section)"
   ]
  }
 ],
 "metadata": {
  "kernelspec": {
   "display_name": "project_venv",
   "language": "python",
   "name": "python3"
  },
  "language_info": {
   "codemirror_mode": {
    "name": "ipython",
    "version": 3
   },
   "file_extension": ".py",
   "mimetype": "text/x-python",
   "name": "python",
   "nbconvert_exporter": "python",
   "pygments_lexer": "ipython3",
   "version": "3.10.11"
  }
 },
 "nbformat": 4,
 "nbformat_minor": 2
}
