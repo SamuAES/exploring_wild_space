{
 "cells": [
  {
   "cell_type": "markdown",
   "metadata": {},
   "source": [
    "## Import load_video and read_video functions"
   ]
  },
  {
   "cell_type": "code",
   "execution_count": null,
   "metadata": {},
   "outputs": [],
   "source": [
    "from frames import *\n",
    "# Relative filepaths\n",
    "video_filepath = \"videos/videos/CAGE_220520_HA70339_exploration_IB.mp4\"\n",
    "model_path = \"custom_yolo11n.pt\""
   ]
  },
  {
   "cell_type": "markdown",
   "metadata": {},
   "source": [
    "### Load video"
   ]
  },
  {
   "cell_type": "code",
   "execution_count": 8,
   "metadata": {},
   "outputs": [
    {
     "name": "stdout",
     "output_type": "stream",
     "text": [
      "frame count: 18015.0\n",
      "frame width: 1280.0\n",
      "frame height: 720.0\n",
      "fps: 30.0\n"
     ]
    }
   ],
   "source": [
    "vcap = load_video(video_filepath)"
   ]
  },
  {
   "cell_type": "markdown",
   "metadata": {},
   "source": [
    "### Read video\n",
    "read_video function returns a generator that yields dictionarys containing information of each boundingbox in one frame. I try to see how to add id numbers for the boxes. At the moment the dictionary keys are only running numbers starting from zero."
   ]
  },
  {
   "cell_type": "code",
   "execution_count": 9,
   "metadata": {},
   "outputs": [],
   "source": [
    "results = read_video(video_capture=vcap, model_path=model_path)"
   ]
  },
  {
   "cell_type": "markdown",
   "metadata": {},
   "source": [
    "### Example of the dictionary"
   ]
  },
  {
   "cell_type": "code",
   "execution_count": 10,
   "metadata": {},
   "outputs": [
    {
     "name": "stdout",
     "output_type": "stream",
     "text": [
      "\n",
      "0: 736x1280 1 bird, 10 sticks, 258.9ms\n",
      "{0: {'class': 'bird', 'confidence': 0.9022803902626038, 'x1': 991, 'y1': 236, 'x2': 1066, 'y2': 315}, 1: {'class': 'stick', 'confidence': 0.8827126622200012, 'x1': 81, 'y1': 11, 'x2': 151, 'y2': 652}, 2: {'class': 'stick', 'confidence': 0.8476368188858032, 'x1': 330, 'y1': 54, 'x2': 372, 'y2': 569}, 3: {'class': 'stick', 'confidence': 0.8369690775871277, 'x1': 397, 'y1': 13, 'x2': 450, 'y2': 663}, 4: {'class': 'stick', 'confidence': 0.7672560214996338, 'x1': 710, 'y1': 11, 'x2': 740, 'y2': 592}, 5: {'class': 'stick', 'confidence': 0.7325254678726196, 'x1': 579, 'y1': 38, 'x2': 611, 'y2': 570}, 6: {'class': 'stick', 'confidence': 0.7198057770729065, 'x1': 987, 'y1': 12, 'x2': 1014, 'y2': 646}, 7: {'class': 'stick', 'confidence': 0.4247773587703705, 'x1': 1047, 'y1': 2, 'x2': 1074, 'y2': 561}, 8: {'class': 'stick', 'confidence': 0.30816829204559326, 'x1': 1258, 'y1': 2, 'x2': 1280, 'y2': 661}, 9: {'class': 'stick', 'confidence': 0.26990213990211487, 'x1': 1254, 'y1': 94, 'x2': 1280, 'y2': 720}, 10: {'class': 'stick', 'confidence': 0.25947701930999756, 'x1': 1049, 'y1': 102, 'x2': 1068, 'y2': 573}}\n"
     ]
    }
   ],
   "source": [
    "# Get next frame\n",
    "print(next(results))"
   ]
  },
  {
   "cell_type": "code",
   "execution_count": 11,
   "metadata": {},
   "outputs": [
    {
     "name": "stdout",
     "output_type": "stream",
     "text": [
      "Speed: 3.8ms preprocess, 258.9ms inference, 11.4ms postprocess per image at shape (1, 3, 736, 1280)\n",
      "\n",
      "0: 736x1280 1 bird, 9 sticks, 171.3ms\n",
      "{0: {'class': 'bird', 'confidence': 0.936731219291687, 'x1': 990, 'y1': 234, 'x2': 1089, 'y2': 317}, 1: {'class': 'stick', 'confidence': 0.880612313747406, 'x1': 81, 'y1': 11, 'x2': 151, 'y2': 653}, 2: {'class': 'stick', 'confidence': 0.8410260081291199, 'x1': 330, 'y1': 54, 'x2': 372, 'y2': 569}, 3: {'class': 'stick', 'confidence': 0.8365731835365295, 'x1': 397, 'y1': 13, 'x2': 450, 'y2': 663}, 4: {'class': 'stick', 'confidence': 0.7653607726097107, 'x1': 710, 'y1': 11, 'x2': 740, 'y2': 591}, 5: {'class': 'stick', 'confidence': 0.7632875442504883, 'x1': 987, 'y1': 13, 'x2': 1015, 'y2': 646}, 6: {'class': 'stick', 'confidence': 0.7309243083000183, 'x1': 579, 'y1': 38, 'x2': 610, 'y2': 570}, 7: {'class': 'stick', 'confidence': 0.446892112493515, 'x1': 1048, 'y1': 5, 'x2': 1076, 'y2': 564}, 8: {'class': 'stick', 'confidence': 0.3164747357368469, 'x1': 1258, 'y1': 0, 'x2': 1280, 'y2': 661}, 9: {'class': 'stick', 'confidence': 0.29492300748825073, 'x1': 1254, 'y1': 95, 'x2': 1280, 'y2': 720}}\n",
      "Speed: 9.5ms preprocess, 171.3ms inference, 1.0ms postprocess per image at shape (1, 3, 736, 1280)\n",
      "\n",
      "0: 736x1280 1 bird, 9 sticks, 143.2ms\n",
      "{0: {'class': 'bird', 'confidence': 0.9202935099601746, 'x1': 987, 'y1': 230, 'x2': 1091, 'y2': 315}, 1: {'class': 'stick', 'confidence': 0.8714989423751831, 'x1': 81, 'y1': 10, 'x2': 151, 'y2': 653}, 2: {'class': 'stick', 'confidence': 0.8471170663833618, 'x1': 329, 'y1': 54, 'x2': 372, 'y2': 569}, 3: {'class': 'stick', 'confidence': 0.8341161012649536, 'x1': 397, 'y1': 14, 'x2': 450, 'y2': 662}, 4: {'class': 'stick', 'confidence': 0.7681261301040649, 'x1': 987, 'y1': 12, 'x2': 1016, 'y2': 645}, 5: {'class': 'stick', 'confidence': 0.762452244758606, 'x1': 710, 'y1': 11, 'x2': 740, 'y2': 591}, 6: {'class': 'stick', 'confidence': 0.7295525074005127, 'x1': 579, 'y1': 37, 'x2': 612, 'y2': 582}, 7: {'class': 'stick', 'confidence': 0.5268439650535583, 'x1': 1049, 'y1': 6, 'x2': 1078, 'y2': 567}, 8: {'class': 'stick', 'confidence': 0.3153637647628784, 'x1': 1049, 'y1': 14, 'x2': 1071, 'y2': 294}, 9: {'class': 'stick', 'confidence': 0.2552151083946228, 'x1': 1259, 'y1': 8, 'x2': 1280, 'y2': 654}}\n",
      "Speed: 7.7ms preprocess, 143.2ms inference, 2.0ms postprocess per image at shape (1, 3, 736, 1280)\n",
      "\n",
      "0: 736x1280 1 bird, 9 sticks, 143.2ms\n",
      "{0: {'class': 'bird', 'confidence': 0.9192089438438416, 'x1': 987, 'y1': 229, 'x2': 1091, 'y2': 315}, 1: {'class': 'stick', 'confidence': 0.8685199022293091, 'x1': 81, 'y1': 10, 'x2': 151, 'y2': 653}, 2: {'class': 'stick', 'confidence': 0.8490673303604126, 'x1': 329, 'y1': 54, 'x2': 372, 'y2': 569}, 3: {'class': 'stick', 'confidence': 0.8352408409118652, 'x1': 397, 'y1': 14, 'x2': 450, 'y2': 662}, 4: {'class': 'stick', 'confidence': 0.779906690120697, 'x1': 987, 'y1': 13, 'x2': 1016, 'y2': 644}, 5: {'class': 'stick', 'confidence': 0.7590698599815369, 'x1': 710, 'y1': 11, 'x2': 740, 'y2': 591}, 6: {'class': 'stick', 'confidence': 0.7298671007156372, 'x1': 578, 'y1': 37, 'x2': 612, 'y2': 582}, 7: {'class': 'stick', 'confidence': 0.5634855031967163, 'x1': 1048, 'y1': 7, 'x2': 1079, 'y2': 567}, 8: {'class': 'stick', 'confidence': 0.27488481998443604, 'x1': 1259, 'y1': 6, 'x2': 1280, 'y2': 653}, 9: {'class': 'stick', 'confidence': 0.2666175067424774, 'x1': 1254, 'y1': 96, 'x2': 1280, 'y2': 720}}\n",
      "Speed: 4.0ms preprocess, 143.2ms inference, 1.0ms postprocess per image at shape (1, 3, 736, 1280)\n",
      "\n",
      "0: 736x1280 1 bird, 9 sticks, 123.0ms\n",
      "{0: {'class': 'bird', 'confidence': 0.9137918949127197, 'x1': 989, 'y1': 231, 'x2': 1094, 'y2': 317}, 1: {'class': 'stick', 'confidence': 0.8671466708183289, 'x1': 81, 'y1': 10, 'x2': 151, 'y2': 653}, 2: {'class': 'stick', 'confidence': 0.8535215854644775, 'x1': 329, 'y1': 55, 'x2': 372, 'y2': 569}, 3: {'class': 'stick', 'confidence': 0.835064172744751, 'x1': 397, 'y1': 14, 'x2': 450, 'y2': 663}, 4: {'class': 'stick', 'confidence': 0.7724823355674744, 'x1': 987, 'y1': 14, 'x2': 1016, 'y2': 643}, 5: {'class': 'stick', 'confidence': 0.7630427479743958, 'x1': 710, 'y1': 11, 'x2': 740, 'y2': 591}, 6: {'class': 'stick', 'confidence': 0.7283748984336853, 'x1': 578, 'y1': 37, 'x2': 612, 'y2': 582}, 7: {'class': 'stick', 'confidence': 0.5704159140586853, 'x1': 1048, 'y1': 7, 'x2': 1079, 'y2': 565}, 8: {'class': 'stick', 'confidence': 0.2926088571548462, 'x1': 1254, 'y1': 94, 'x2': 1280, 'y2': 720}, 9: {'class': 'stick', 'confidence': 0.28669899702072144, 'x1': 1259, 'y1': 2, 'x2': 1280, 'y2': 655}}\n",
      "Speed: 3.5ms preprocess, 123.0ms inference, 1.0ms postprocess per image at shape (1, 3, 736, 1280)\n",
      "\n",
      "0: 736x1280 1 bird, 9 sticks, 135.6ms\n",
      "{0: {'class': 'bird', 'confidence': 0.9207473993301392, 'x1': 989, 'y1': 231, 'x2': 1094, 'y2': 317}, 1: {'class': 'stick', 'confidence': 0.8672817349433899, 'x1': 81, 'y1': 10, 'x2': 151, 'y2': 653}, 2: {'class': 'stick', 'confidence': 0.8558977842330933, 'x1': 329, 'y1': 55, 'x2': 372, 'y2': 569}, 3: {'class': 'stick', 'confidence': 0.8369005918502808, 'x1': 397, 'y1': 14, 'x2': 450, 'y2': 663}, 4: {'class': 'stick', 'confidence': 0.7714787125587463, 'x1': 987, 'y1': 13, 'x2': 1016, 'y2': 644}, 5: {'class': 'stick', 'confidence': 0.7631681561470032, 'x1': 710, 'y1': 11, 'x2': 740, 'y2': 591}, 6: {'class': 'stick', 'confidence': 0.7304640412330627, 'x1': 578, 'y1': 36, 'x2': 612, 'y2': 582}, 7: {'class': 'stick', 'confidence': 0.5717095136642456, 'x1': 1048, 'y1': 7, 'x2': 1079, 'y2': 566}, 8: {'class': 'stick', 'confidence': 0.2996157109737396, 'x1': 1259, 'y1': 2, 'x2': 1280, 'y2': 656}, 9: {'class': 'stick', 'confidence': 0.2913438379764557, 'x1': 1254, 'y1': 95, 'x2': 1280, 'y2': 720}}\n",
      "Speed: 4.1ms preprocess, 135.6ms inference, 1.0ms postprocess per image at shape (1, 3, 736, 1280)\n",
      "\n",
      "0: 736x1280 1 bird, 10 sticks, 129.3ms\n",
      "{0: {'class': 'bird', 'confidence': 0.926597535610199, 'x1': 988, 'y1': 231, 'x2': 1094, 'y2': 316}, 1: {'class': 'stick', 'confidence': 0.8688355684280396, 'x1': 81, 'y1': 10, 'x2': 151, 'y2': 653}, 2: {'class': 'stick', 'confidence': 0.8563888669013977, 'x1': 329, 'y1': 55, 'x2': 372, 'y2': 568}, 3: {'class': 'stick', 'confidence': 0.8373900651931763, 'x1': 397, 'y1': 14, 'x2': 450, 'y2': 662}, 4: {'class': 'stick', 'confidence': 0.7632101774215698, 'x1': 710, 'y1': 11, 'x2': 740, 'y2': 591}, 5: {'class': 'stick', 'confidence': 0.7631070613861084, 'x1': 987, 'y1': 14, 'x2': 1016, 'y2': 644}, 6: {'class': 'stick', 'confidence': 0.7302395701408386, 'x1': 578, 'y1': 36, 'x2': 612, 'y2': 582}, 7: {'class': 'stick', 'confidence': 0.5559360384941101, 'x1': 1048, 'y1': 7, 'x2': 1078, 'y2': 566}, 8: {'class': 'stick', 'confidence': 0.2922931909561157, 'x1': 1258, 'y1': 2, 'x2': 1280, 'y2': 655}, 9: {'class': 'stick', 'confidence': 0.28770139813423157, 'x1': 1048, 'y1': 14, 'x2': 1071, 'y2': 299}, 10: {'class': 'stick', 'confidence': 0.2757991850376129, 'x1': 1255, 'y1': 95, 'x2': 1280, 'y2': 720}}\n"
     ]
    }
   ],
   "source": [
    "# Loop over all frames\n",
    "n = 0\n",
    "for result in results:\n",
    "    print(result)\n",
    "    n += 1\n",
    "    if n > 5:\n",
    "        break"
   ]
  },
  {
   "cell_type": "markdown",
   "metadata": {},
   "source": [
    "### Example usage of sections.py"
   ]
  },
  {
   "cell_type": "code",
   "execution_count": 12,
   "metadata": {},
   "outputs": [
    {
     "name": "stdout",
     "output_type": "stream",
     "text": [
      "Speed: 3.3ms preprocess, 129.3ms inference, 1.0ms postprocess per image at shape (1, 3, 736, 1280)\n",
      "\n",
      "0: 736x1280 1 bird, 11 sticks, 132.1ms\n",
      "Speed: 3.0ms preprocess, 132.1ms inference, 2.0ms postprocess per image at shape (1, 3, 736, 1280)\n",
      "\n",
      "0: 736x1280 1 bird, 11 sticks, 115.4ms\n",
      "Speed: 2.9ms preprocess, 115.4ms inference, 0.9ms postprocess per image at shape (1, 3, 736, 1280)\n",
      "\n",
      "0: 736x1280 1 bird, 12 sticks, 121.2ms\n",
      "Speed: 3.0ms preprocess, 121.2ms inference, 1.9ms postprocess per image at shape (1, 3, 736, 1280)\n",
      "\n",
      "0: 736x1280 1 bird, 12 sticks, 127.7ms\n",
      "Speed: 4.0ms preprocess, 127.7ms inference, 1.0ms postprocess per image at shape (1, 3, 736, 1280)\n",
      "\n",
      "0: 736x1280 1 bird, 12 sticks, 130.4ms\n",
      "Speed: 4.1ms preprocess, 130.4ms inference, 0.0ms postprocess per image at shape (1, 3, 736, 1280)\n",
      "\n",
      "0: 736x1280 1 bird, 12 sticks, 119.6ms\n",
      "Total Frame Counts by Section: {'top': 0, 'middle': 6, 'bottom': 0}\n",
      "Time by Section (in seconds): {'top': 0.0, 'middle': 0.2, 'bottom': 0.0}\n"
     ]
    }
   ],
   "source": [
    "from sections import assign_section_ys, count_frames_by_section, convert_frame_counts_to_time\n",
    "\n",
    "# Initialize frame counts\n",
    "total_frame_counts = {'top': 0, 'middle': 0, 'bottom': 0}\n",
    "\n",
    "n = 0\n",
    "# Loop over all frames\n",
    "for result in results:\n",
    "    labeled_result = assign_section_ys(result)\n",
    "\n",
    "    frame_counts = count_frames_by_section(labeled_result)\n",
    "    \n",
    "    for section, count in frame_counts.items():\n",
    "        total_frame_counts[section] += count\n",
    "\n",
    "    n += 1\n",
    "    if n > 5:\n",
    "        break\n",
    "\n",
    "# Convert frame counts to time\n",
    "time_by_section = convert_frame_counts_to_time(total_frame_counts)\n",
    "\n",
    "print(\"Total Frame Counts by Section:\", total_frame_counts)\n",
    "print(\"Time by Section (in seconds):\", time_by_section)"
   ]
  }
 ],
 "metadata": {
  "kernelspec": {
   "display_name": ".venv",
   "language": "python",
   "name": "python3"
  },
  "language_info": {
   "codemirror_mode": {
    "name": "ipython",
    "version": 3
   },
   "file_extension": ".py",
   "mimetype": "text/x-python",
   "name": "python",
   "nbconvert_exporter": "python",
   "pygments_lexer": "ipython3",
   "version": "3.10.11"
  }
 },
 "nbformat": 4,
 "nbformat_minor": 2
}
