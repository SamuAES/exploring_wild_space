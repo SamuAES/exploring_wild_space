{
 "cells": [
  {
   "cell_type": "markdown",
   "metadata": {},
   "source": [
    "## Extract every 100th frame from the videos to be annotated."
   ]
  },
  {
   "cell_type": "code",
   "execution_count": 2,
   "metadata": {},
   "outputs": [],
   "source": [
    "import cv2\n",
    "import os\n"
   ]
  },
  {
   "cell_type": "code",
   "execution_count": 3,
   "metadata": {},
   "outputs": [
    {
     "name": "stdout",
     "output_type": "stream",
     "text": [
      "['HE21360_100721_21OW8_exploration_IB.mp4', 'HE21364_110721_21NB25_exploration_IB.mp4', 'HE21355_090721_21NB21_exploration_IB.mp4', 'HE21359_100721_21OW7_exploration_IB.mp4', 'HE21362_100721_21JJ32_exploration_IB.mp4', 'HE21366_120721_Nätholmen_exploration_IB.mp4', 'HE21357_090721_Smedjeviken BT_exploration_IB.mp4', 'HE21365_110721_21NB23_exploration_IB.mp4', 'HE21363_100721_21JJ32_exploration_IB.mp4', 'HE21361_100721_21OW8_exploration_IB.mp4']\n"
     ]
    }
   ],
   "source": [
    "videos = os.listdir(\"data/videos/videos\")\n",
    "print(videos)"
   ]
  },
  {
   "cell_type": "code",
   "execution_count": null,
   "metadata": {},
   "outputs": [],
   "source": [
    "for video in videos:\n",
    "\tdirectory = f\"data/videos/frames/{video}\"\n",
    "\n",
    "\t# Read the video from specified path \n",
    "\tcam = cv2.VideoCapture(f\"{videos}/{video}\") \n",
    "\n",
    "\ttry: \n",
    "\t\t# creating a folder named data \n",
    "\t\tif not os.path.exists(directory): \n",
    "\t\t\tos.makedirs(directory) \n",
    "\n",
    "\t# if not created then raise error \n",
    "\texcept OSError: \n",
    "\t\tprint ('Error: Creating directory of data') \n",
    "\n",
    "\t# frame \n",
    "\tcurrentframe = 0\n",
    "\t# reading from frame \n",
    "\tret,frame = cam.read() \n",
    "\n",
    "\twhile(ret):\n",
    "\t\tif (currentframe % 600) == 0:\n",
    "\t\t\tname = f'./{directory}/{video}_frame' + str(currentframe) + '.jpg'\n",
    "\t\t\tcv2.imwrite(name, frame)\n",
    "\n",
    "\t\tret,frame = cam.read() \n",
    "\t\tcurrentframe += 1\n",
    "\t\t\n",
    "\t# Release all space and windows once done \n",
    "\tcam.release() \n",
    "\tcv2.destroyAllWindows() \n"
   ]
  }
 ],
 "metadata": {
  "kernelspec": {
   "display_name": ".venv",
   "language": "python",
   "name": "python3"
  },
  "language_info": {
   "codemirror_mode": {
    "name": "ipython",
    "version": 3
   },
   "file_extension": ".py",
   "mimetype": "text/x-python",
   "name": "python",
   "nbconvert_exporter": "python",
   "pygments_lexer": "ipython3",
   "version": "3.12.7"
  }
 },
 "nbformat": 4,
 "nbformat_minor": 2
}
