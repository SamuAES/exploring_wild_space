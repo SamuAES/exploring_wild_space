{
 "cells": [
  {
   "cell_type": "markdown",
   "metadata": {},
   "source": [
    "## Extract every 100th frame from the videos to be annotated."
   ]
  },
  {
   "cell_type": "code",
   "execution_count": null,
   "metadata": {},
   "outputs": [],
   "source": [
    "import cv2\n",
    "import os"
   ]
  },
  {
   "cell_type": "code",
   "execution_count": 6,
   "metadata": {},
   "outputs": [],
   "source": [
    "videos = os.listdir(\"data/videos\")\n",
    "\n",
    "for video in videos:\n",
    "\tdirectory = f\"data/frames/{video}\"\n",
    "\n",
    "\t# Read the video from specified path \n",
    "\tcam = cv2.VideoCapture(f\"data/videos/{video}\") \n",
    "\n",
    "\ttry: \n",
    "\t\t# creating a folder named data \n",
    "\t\tif not os.path.exists(directory): \n",
    "\t\t\tos.makedirs(directory) \n",
    "\n",
    "\t# if not created then raise error \n",
    "\texcept OSError: \n",
    "\t\tprint ('Error: Creating directory of data') \n",
    "\n",
    "\t# frame \n",
    "\tcurrentframe = 0\n",
    "\t# reading from frame \n",
    "\tret,frame = cam.read() \n",
    "\n",
    "\twhile(ret):\n",
    "\t\tif (currentframe % 100) == 0:\n",
    "\t\t\tname = f'./{directory}/{video}_frame' + str(currentframe) + '.jpg'\n",
    "\t\t\tcv2.imwrite(name, frame)\n",
    "\n",
    "\t\tret,frame = cam.read() \n",
    "\t\tcurrentframe += 1\n",
    "\t\t\n",
    "\t# Release all space and windows once done \n",
    "\tcam.release() \n",
    "\tcv2.destroyAllWindows() \n"
   ]
  }
 ],
 "metadata": {
  "kernelspec": {
   "display_name": ".venv",
   "language": "python",
   "name": "python3"
  },
  "language_info": {
   "codemirror_mode": {
    "name": "ipython",
    "version": 3
   },
   "file_extension": ".py",
   "mimetype": "text/x-python",
   "name": "python",
   "nbconvert_exporter": "python",
   "pygments_lexer": "ipython3",
   "version": "3.12.7"
  }
 },
 "nbformat": 4,
 "nbformat_minor": 2
}
